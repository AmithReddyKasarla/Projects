{
 "cells": [
  {
   "cell_type": "code",
   "execution_count": 1,
   "id": "0d5be622",
   "metadata": {},
   "outputs": [],
   "source": [
    "import pyforest"
   ]
  },
  {
   "cell_type": "code",
   "execution_count": 2,
   "id": "1832fef9",
   "metadata": {},
   "outputs": [
    {
     "data": {
      "application/javascript": [
       "\n",
       "        if (window._pyforest_update_imports_cell) { window._pyforest_update_imports_cell('import pandas as pd'); }\n",
       "    "
      ],
      "text/plain": [
       "<IPython.core.display.Javascript object>"
      ]
     },
     "metadata": {},
     "output_type": "display_data"
    }
   ],
   "source": [
    "data = pd.read_csv(\"https://raw.githubusercontent.com/unt-iialab/info5502-spring2022/main/datasets/portfolio_data.csv\")"
   ]
  },
  {
   "cell_type": "code",
   "execution_count": 3,
   "id": "0536d0fe",
   "metadata": {},
   "outputs": [
    {
     "data": {
      "text/html": [
       "<div>\n",
       "<style scoped>\n",
       "    .dataframe tbody tr th:only-of-type {\n",
       "        vertical-align: middle;\n",
       "    }\n",
       "\n",
       "    .dataframe tbody tr th {\n",
       "        vertical-align: top;\n",
       "    }\n",
       "\n",
       "    .dataframe thead th {\n",
       "        text-align: right;\n",
       "    }\n",
       "</style>\n",
       "<table border=\"1\" class=\"dataframe\">\n",
       "  <thead>\n",
       "    <tr style=\"text-align: right;\">\n",
       "      <th></th>\n",
       "      <th>Date</th>\n",
       "      <th>AMZN</th>\n",
       "      <th>DPZ</th>\n",
       "      <th>BTC</th>\n",
       "      <th>NFLX</th>\n",
       "    </tr>\n",
       "  </thead>\n",
       "  <tbody>\n",
       "    <tr>\n",
       "      <th>0</th>\n",
       "      <td>5/1/2013</td>\n",
       "      <td>248.229996</td>\n",
       "      <td>51.190983</td>\n",
       "      <td>106.250000</td>\n",
       "      <td>30.415714</td>\n",
       "    </tr>\n",
       "    <tr>\n",
       "      <th>1</th>\n",
       "      <td>5/2/2013</td>\n",
       "      <td>252.550003</td>\n",
       "      <td>51.987320</td>\n",
       "      <td>98.099998</td>\n",
       "      <td>30.641428</td>\n",
       "    </tr>\n",
       "    <tr>\n",
       "      <th>2</th>\n",
       "      <td>5/3/2013</td>\n",
       "      <td>258.049988</td>\n",
       "      <td>52.446388</td>\n",
       "      <td>112.900002</td>\n",
       "      <td>30.492857</td>\n",
       "    </tr>\n",
       "    <tr>\n",
       "      <th>3</th>\n",
       "      <td>5/6/2013</td>\n",
       "      <td>255.720001</td>\n",
       "      <td>53.205257</td>\n",
       "      <td>109.599998</td>\n",
       "      <td>30.098572</td>\n",
       "    </tr>\n",
       "    <tr>\n",
       "      <th>4</th>\n",
       "      <td>5/7/2013</td>\n",
       "      <td>257.730011</td>\n",
       "      <td>54.151505</td>\n",
       "      <td>113.199997</td>\n",
       "      <td>29.464285</td>\n",
       "    </tr>\n",
       "    <tr>\n",
       "      <th>...</th>\n",
       "      <td>...</td>\n",
       "      <td>...</td>\n",
       "      <td>...</td>\n",
       "      <td>...</td>\n",
       "      <td>...</td>\n",
       "    </tr>\n",
       "    <tr>\n",
       "      <th>1515</th>\n",
       "      <td>5/8/2019</td>\n",
       "      <td>1917.770020</td>\n",
       "      <td>283.149994</td>\n",
       "      <td>6171.959961</td>\n",
       "      <td>364.369995</td>\n",
       "    </tr>\n",
       "    <tr>\n",
       "      <th>1516</th>\n",
       "      <td>5/9/2019</td>\n",
       "      <td>1899.869995</td>\n",
       "      <td>282.160004</td>\n",
       "      <td>6358.290039</td>\n",
       "      <td>362.750000</td>\n",
       "    </tr>\n",
       "    <tr>\n",
       "      <th>1517</th>\n",
       "      <td>5/10/2019</td>\n",
       "      <td>1889.979980</td>\n",
       "      <td>278.369995</td>\n",
       "      <td>7191.359863</td>\n",
       "      <td>361.040009</td>\n",
       "    </tr>\n",
       "    <tr>\n",
       "      <th>1518</th>\n",
       "      <td>5/13/2019</td>\n",
       "      <td>1822.680054</td>\n",
       "      <td>273.880005</td>\n",
       "      <td>7980.129883</td>\n",
       "      <td>345.260010</td>\n",
       "    </tr>\n",
       "    <tr>\n",
       "      <th>1519</th>\n",
       "      <td>5/14/2019</td>\n",
       "      <td>1840.119995</td>\n",
       "      <td>272.859985</td>\n",
       "      <td>8183.830078</td>\n",
       "      <td>345.609985</td>\n",
       "    </tr>\n",
       "  </tbody>\n",
       "</table>\n",
       "<p>1520 rows × 5 columns</p>\n",
       "</div>"
      ],
      "text/plain": [
       "           Date         AMZN         DPZ          BTC        NFLX\n",
       "0      5/1/2013   248.229996   51.190983   106.250000   30.415714\n",
       "1      5/2/2013   252.550003   51.987320    98.099998   30.641428\n",
       "2      5/3/2013   258.049988   52.446388   112.900002   30.492857\n",
       "3      5/6/2013   255.720001   53.205257   109.599998   30.098572\n",
       "4      5/7/2013   257.730011   54.151505   113.199997   29.464285\n",
       "...         ...          ...         ...          ...         ...\n",
       "1515   5/8/2019  1917.770020  283.149994  6171.959961  364.369995\n",
       "1516   5/9/2019  1899.869995  282.160004  6358.290039  362.750000\n",
       "1517  5/10/2019  1889.979980  278.369995  7191.359863  361.040009\n",
       "1518  5/13/2019  1822.680054  273.880005  7980.129883  345.260010\n",
       "1519  5/14/2019  1840.119995  272.859985  8183.830078  345.609985\n",
       "\n",
       "[1520 rows x 5 columns]"
      ]
     },
     "execution_count": 3,
     "metadata": {},
     "output_type": "execute_result"
    }
   ],
   "source": [
    "data"
   ]
  },
  {
   "cell_type": "code",
   "execution_count": 36,
   "id": "c73a5d08",
   "metadata": {},
   "outputs": [],
   "source": [
    "x = data.sample(frac = 0.8)\n",
    "y = data.drop(x.index)"
   ]
  },
  {
   "cell_type": "code",
   "execution_count": 37,
   "id": "b500cc80",
   "metadata": {},
   "outputs": [
    {
     "data": {
      "text/html": [
       "<div>\n",
       "<style scoped>\n",
       "    .dataframe tbody tr th:only-of-type {\n",
       "        vertical-align: middle;\n",
       "    }\n",
       "\n",
       "    .dataframe tbody tr th {\n",
       "        vertical-align: top;\n",
       "    }\n",
       "\n",
       "    .dataframe thead th {\n",
       "        text-align: right;\n",
       "    }\n",
       "</style>\n",
       "<table border=\"1\" class=\"dataframe\">\n",
       "  <thead>\n",
       "    <tr style=\"text-align: right;\">\n",
       "      <th></th>\n",
       "      <th>Date</th>\n",
       "      <th>AMZN</th>\n",
       "      <th>DPZ</th>\n",
       "      <th>BTC</th>\n",
       "      <th>NFLX</th>\n",
       "    </tr>\n",
       "  </thead>\n",
       "  <tbody>\n",
       "    <tr>\n",
       "      <th>1165</th>\n",
       "      <td>12/13/2017</td>\n",
       "      <td>1164.130005</td>\n",
       "      <td>178.038895</td>\n",
       "      <td>16286.820310</td>\n",
       "      <td>187.860001</td>\n",
       "    </tr>\n",
       "    <tr>\n",
       "      <th>513</th>\n",
       "      <td>5/14/2015</td>\n",
       "      <td>432.279999</td>\n",
       "      <td>105.580681</td>\n",
       "      <td>237.199997</td>\n",
       "      <td>83.835716</td>\n",
       "    </tr>\n",
       "    <tr>\n",
       "      <th>254</th>\n",
       "      <td>5/5/2014</td>\n",
       "      <td>310.049988</td>\n",
       "      <td>68.786476</td>\n",
       "      <td>432.190002</td>\n",
       "      <td>49.197144</td>\n",
       "    </tr>\n",
       "    <tr>\n",
       "      <th>965</th>\n",
       "      <td>3/1/2017</td>\n",
       "      <td>853.080017</td>\n",
       "      <td>183.563782</td>\n",
       "      <td>1222.660034</td>\n",
       "      <td>142.649994</td>\n",
       "    </tr>\n",
       "    <tr>\n",
       "      <th>937</th>\n",
       "      <td>1/19/2017</td>\n",
       "      <td>809.039978</td>\n",
       "      <td>162.597656</td>\n",
       "      <td>895.210022</td>\n",
       "      <td>138.410004</td>\n",
       "    </tr>\n",
       "    <tr>\n",
       "      <th>...</th>\n",
       "      <td>...</td>\n",
       "      <td>...</td>\n",
       "      <td>...</td>\n",
       "      <td>...</td>\n",
       "      <td>...</td>\n",
       "    </tr>\n",
       "    <tr>\n",
       "      <th>1146</th>\n",
       "      <td>11/15/2017</td>\n",
       "      <td>1126.689941</td>\n",
       "      <td>173.353912</td>\n",
       "      <td>7283.220215</td>\n",
       "      <td>192.119995</td>\n",
       "    </tr>\n",
       "    <tr>\n",
       "      <th>1511</th>\n",
       "      <td>5/2/2019</td>\n",
       "      <td>1900.819946</td>\n",
       "      <td>274.320007</td>\n",
       "      <td>5753.379883</td>\n",
       "      <td>379.059998</td>\n",
       "    </tr>\n",
       "    <tr>\n",
       "      <th>126</th>\n",
       "      <td>10/29/2013</td>\n",
       "      <td>362.700012</td>\n",
       "      <td>64.459106</td>\n",
       "      <td>216.000000</td>\n",
       "      <td>46.757141</td>\n",
       "    </tr>\n",
       "    <tr>\n",
       "      <th>1068</th>\n",
       "      <td>7/27/2017</td>\n",
       "      <td>1046.000000</td>\n",
       "      <td>179.493607</td>\n",
       "      <td>2806.750000</td>\n",
       "      <td>182.679993</td>\n",
       "    </tr>\n",
       "    <tr>\n",
       "      <th>1265</th>\n",
       "      <td>5/9/2018</td>\n",
       "      <td>1608.000000</td>\n",
       "      <td>247.720367</td>\n",
       "      <td>9032.219727</td>\n",
       "      <td>330.299988</td>\n",
       "    </tr>\n",
       "  </tbody>\n",
       "</table>\n",
       "<p>1216 rows × 5 columns</p>\n",
       "</div>"
      ],
      "text/plain": [
       "            Date         AMZN         DPZ           BTC        NFLX\n",
       "1165  12/13/2017  1164.130005  178.038895  16286.820310  187.860001\n",
       "513    5/14/2015   432.279999  105.580681    237.199997   83.835716\n",
       "254     5/5/2014   310.049988   68.786476    432.190002   49.197144\n",
       "965     3/1/2017   853.080017  183.563782   1222.660034  142.649994\n",
       "937    1/19/2017   809.039978  162.597656    895.210022  138.410004\n",
       "...          ...          ...         ...           ...         ...\n",
       "1146  11/15/2017  1126.689941  173.353912   7283.220215  192.119995\n",
       "1511    5/2/2019  1900.819946  274.320007   5753.379883  379.059998\n",
       "126   10/29/2013   362.700012   64.459106    216.000000   46.757141\n",
       "1068   7/27/2017  1046.000000  179.493607   2806.750000  182.679993\n",
       "1265    5/9/2018  1608.000000  247.720367   9032.219727  330.299988\n",
       "\n",
       "[1216 rows x 5 columns]"
      ]
     },
     "execution_count": 37,
     "metadata": {},
     "output_type": "execute_result"
    }
   ],
   "source": [
    "x"
   ]
  },
  {
   "cell_type": "code",
   "execution_count": 38,
   "id": "b8f2c196",
   "metadata": {},
   "outputs": [
    {
     "data": {
      "text/html": [
       "<div>\n",
       "<style scoped>\n",
       "    .dataframe tbody tr th:only-of-type {\n",
       "        vertical-align: middle;\n",
       "    }\n",
       "\n",
       "    .dataframe tbody tr th {\n",
       "        vertical-align: top;\n",
       "    }\n",
       "\n",
       "    .dataframe thead th {\n",
       "        text-align: right;\n",
       "    }\n",
       "</style>\n",
       "<table border=\"1\" class=\"dataframe\">\n",
       "  <thead>\n",
       "    <tr style=\"text-align: right;\">\n",
       "      <th></th>\n",
       "      <th>Date</th>\n",
       "      <th>AMZN</th>\n",
       "      <th>DPZ</th>\n",
       "      <th>BTC</th>\n",
       "      <th>NFLX</th>\n",
       "    </tr>\n",
       "  </thead>\n",
       "  <tbody>\n",
       "    <tr>\n",
       "      <th>11</th>\n",
       "      <td>5/16/2013</td>\n",
       "      <td>264.119995</td>\n",
       "      <td>53.364532</td>\n",
       "      <td>123.500000</td>\n",
       "      <td>33.861427</td>\n",
       "    </tr>\n",
       "    <tr>\n",
       "      <th>12</th>\n",
       "      <td>5/17/2013</td>\n",
       "      <td>269.899994</td>\n",
       "      <td>53.936020</td>\n",
       "      <td>123.209999</td>\n",
       "      <td>34.142857</td>\n",
       "    </tr>\n",
       "    <tr>\n",
       "      <th>14</th>\n",
       "      <td>5/21/2013</td>\n",
       "      <td>268.859985</td>\n",
       "      <td>53.355167</td>\n",
       "      <td>123.800003</td>\n",
       "      <td>33.869999</td>\n",
       "    </tr>\n",
       "    <tr>\n",
       "      <th>16</th>\n",
       "      <td>5/23/2013</td>\n",
       "      <td>261.799988</td>\n",
       "      <td>55.472504</td>\n",
       "      <td>133.100006</td>\n",
       "      <td>32.311428</td>\n",
       "    </tr>\n",
       "    <tr>\n",
       "      <th>20</th>\n",
       "      <td>5/30/2013</td>\n",
       "      <td>266.829987</td>\n",
       "      <td>56.015888</td>\n",
       "      <td>128.820007</td>\n",
       "      <td>31.808571</td>\n",
       "    </tr>\n",
       "    <tr>\n",
       "      <th>...</th>\n",
       "      <td>...</td>\n",
       "      <td>...</td>\n",
       "      <td>...</td>\n",
       "      <td>...</td>\n",
       "      <td>...</td>\n",
       "    </tr>\n",
       "    <tr>\n",
       "      <th>1484</th>\n",
       "      <td>3/25/2019</td>\n",
       "      <td>1774.260010</td>\n",
       "      <td>242.559998</td>\n",
       "      <td>3924.550049</td>\n",
       "      <td>366.230011</td>\n",
       "    </tr>\n",
       "    <tr>\n",
       "      <th>1486</th>\n",
       "      <td>3/27/2019</td>\n",
       "      <td>1765.699951</td>\n",
       "      <td>247.580002</td>\n",
       "      <td>4045.979980</td>\n",
       "      <td>353.369995</td>\n",
       "    </tr>\n",
       "    <tr>\n",
       "      <th>1491</th>\n",
       "      <td>4/3/2019</td>\n",
       "      <td>1820.699951</td>\n",
       "      <td>253.110001</td>\n",
       "      <td>4913.359863</td>\n",
       "      <td>369.750000</td>\n",
       "    </tr>\n",
       "    <tr>\n",
       "      <th>1502</th>\n",
       "      <td>4/18/2019</td>\n",
       "      <td>1861.689941</td>\n",
       "      <td>267.609985</td>\n",
       "      <td>5295.529785</td>\n",
       "      <td>360.350006</td>\n",
       "    </tr>\n",
       "    <tr>\n",
       "      <th>1515</th>\n",
       "      <td>5/8/2019</td>\n",
       "      <td>1917.770020</td>\n",
       "      <td>283.149994</td>\n",
       "      <td>6171.959961</td>\n",
       "      <td>364.369995</td>\n",
       "    </tr>\n",
       "  </tbody>\n",
       "</table>\n",
       "<p>304 rows × 5 columns</p>\n",
       "</div>"
      ],
      "text/plain": [
       "           Date         AMZN         DPZ          BTC        NFLX\n",
       "11    5/16/2013   264.119995   53.364532   123.500000   33.861427\n",
       "12    5/17/2013   269.899994   53.936020   123.209999   34.142857\n",
       "14    5/21/2013   268.859985   53.355167   123.800003   33.869999\n",
       "16    5/23/2013   261.799988   55.472504   133.100006   32.311428\n",
       "20    5/30/2013   266.829987   56.015888   128.820007   31.808571\n",
       "...         ...          ...         ...          ...         ...\n",
       "1484  3/25/2019  1774.260010  242.559998  3924.550049  366.230011\n",
       "1486  3/27/2019  1765.699951  247.580002  4045.979980  353.369995\n",
       "1491   4/3/2019  1820.699951  253.110001  4913.359863  369.750000\n",
       "1502  4/18/2019  1861.689941  267.609985  5295.529785  360.350006\n",
       "1515   5/8/2019  1917.770020  283.149994  6171.959961  364.369995\n",
       "\n",
       "[304 rows x 5 columns]"
      ]
     },
     "execution_count": 38,
     "metadata": {},
     "output_type": "execute_result"
    }
   ],
   "source": [
    "y"
   ]
  },
  {
   "cell_type": "code",
   "execution_count": 39,
   "id": "f734376a",
   "metadata": {},
   "outputs": [],
   "source": [
    "train = x.iloc[:,1:].values"
   ]
  },
  {
   "cell_type": "code",
   "execution_count": 40,
   "id": "f2b768ff",
   "metadata": {},
   "outputs": [
    {
     "data": {
      "text/plain": [
       "array([[ 1164.130005,   178.038895, 16286.82031 ,   187.860001],\n",
       "       [  432.279999,   105.580681,   237.199997,    83.835716],\n",
       "       [  310.049988,    68.786476,   432.190002,    49.197144],\n",
       "       ...,\n",
       "       [  362.700012,    64.459106,   216.      ,    46.757141],\n",
       "       [ 1046.      ,   179.493607,  2806.75    ,   182.679993],\n",
       "       [ 1608.      ,   247.720367,  9032.219727,   330.299988]])"
      ]
     },
     "execution_count": 40,
     "metadata": {},
     "output_type": "execute_result"
    }
   ],
   "source": [
    "train"
   ]
  },
  {
   "cell_type": "code",
   "execution_count": 10,
   "id": "69ca9db9",
   "metadata": {},
   "outputs": [],
   "source": [
    "#Feature Scaling\n",
    "from sklearn.preprocessing import MinMaxScaler"
   ]
  },
  {
   "cell_type": "code",
   "execution_count": 11,
   "id": "6fc48ea9",
   "metadata": {},
   "outputs": [],
   "source": [
    "sc = MinMaxScaler(feature_range=(0,1))"
   ]
  },
  {
   "cell_type": "code",
   "execution_count": 12,
   "id": "c9ec0656",
   "metadata": {},
   "outputs": [],
   "source": [
    "train_set_scaled = sc.fit_transform(train)"
   ]
  },
  {
   "cell_type": "code",
   "execution_count": 13,
   "id": "7e97ecdf",
   "metadata": {},
   "outputs": [],
   "source": [
    "#creating a data structure with 60 timesteps and 1 output\n",
    "x_train=[]\n",
    "y_train=[]"
   ]
  },
  {
   "cell_type": "code",
   "execution_count": 15,
   "id": "3acba561",
   "metadata": {},
   "outputs": [],
   "source": [
    "for i in range(60, 1258):\n",
    "    x_train.append(train_set_scaled[i-60:i, 0])\n",
    "    y_train.append(train_set_scaled[i, 0])"
   ]
  },
  {
   "cell_type": "code",
   "execution_count": 16,
   "id": "feff0076",
   "metadata": {},
   "outputs": [
    {
     "data": {
      "application/javascript": [
       "\n",
       "        if (window._pyforest_update_imports_cell) { window._pyforest_update_imports_cell('import pandas as pd\\nimport numpy as np'); }\n",
       "    "
      ],
      "text/plain": [
       "<IPython.core.display.Javascript object>"
      ]
     },
     "metadata": {},
     "output_type": "display_data"
    },
    {
     "data": {
      "application/javascript": [
       "\n",
       "        if (window._pyforest_update_imports_cell) { window._pyforest_update_imports_cell('import pandas as pd\\nimport numpy as np'); }\n",
       "    "
      ],
      "text/plain": [
       "<IPython.core.display.Javascript object>"
      ]
     },
     "metadata": {},
     "output_type": "display_data"
    }
   ],
   "source": [
    "x_train,y_train = np.array(x_train), np.array(y_train)"
   ]
  },
  {
   "cell_type": "code",
   "execution_count": 17,
   "id": "366f6abb",
   "metadata": {},
   "outputs": [
    {
     "data": {
      "application/javascript": [
       "\n",
       "        if (window._pyforest_update_imports_cell) { window._pyforest_update_imports_cell('import pandas as pd\\nimport numpy as np'); }\n",
       "    "
      ],
      "text/plain": [
       "<IPython.core.display.Javascript object>"
      ]
     },
     "metadata": {},
     "output_type": "display_data"
    }
   ],
   "source": [
    "#Reshaping\n",
    "x_train = np.reshape(x_train, (x_train.shape[0], x_train.shape[1], 1))"
   ]
  },
  {
   "cell_type": "code",
   "execution_count": 19,
   "id": "2f0e59c3",
   "metadata": {},
   "outputs": [
    {
     "name": "stdout",
     "output_type": "stream",
     "text": [
      "Collecting keras\n",
      "  Downloading keras-2.8.0-py2.py3-none-any.whl (1.4 MB)\n",
      "Installing collected packages: keras\n",
      "Successfully installed keras-2.8.0\n"
     ]
    }
   ],
   "source": [
    "!pip install keras"
   ]
  },
  {
   "cell_type": "code",
   "execution_count": 21,
   "id": "0856fe7b",
   "metadata": {},
   "outputs": [
    {
     "name": "stdout",
     "output_type": "stream",
     "text": [
      "Collecting Tensorflow\n",
      "  Downloading tensorflow-2.8.0-cp39-cp39-win_amd64.whl (438.0 MB)\n",
      "Collecting protobuf>=3.9.2\n",
      "  Downloading protobuf-3.20.0-cp39-cp39-win_amd64.whl (904 kB)\n",
      "Requirement already satisfied: wrapt>=1.11.0 in c:\\users\\amith reddy\\anaconda3\\lib\\site-packages (from Tensorflow) (1.12.1)\n",
      "Collecting tf-estimator-nightly==2.8.0.dev2021122109\n",
      "  Downloading tf_estimator_nightly-2.8.0.dev2021122109-py2.py3-none-any.whl (462 kB)\n",
      "Collecting gast>=0.2.1\n",
      "  Downloading gast-0.5.3-py3-none-any.whl (19 kB)\n",
      "Collecting termcolor>=1.1.0\n",
      "  Downloading termcolor-1.1.0.tar.gz (3.9 kB)\n",
      "Requirement already satisfied: setuptools in c:\\users\\amith reddy\\anaconda3\\lib\\site-packages (from Tensorflow) (58.0.4)\n",
      "Collecting opt-einsum>=2.3.2\n",
      "  Downloading opt_einsum-3.3.0-py3-none-any.whl (65 kB)\n",
      "Requirement already satisfied: six>=1.12.0 in c:\\users\\amith reddy\\anaconda3\\lib\\site-packages (from Tensorflow) (1.16.0)\n",
      "Collecting flatbuffers>=1.12\n",
      "  Downloading flatbuffers-2.0-py2.py3-none-any.whl (26 kB)\n",
      "Collecting tensorflow-io-gcs-filesystem>=0.23.1\n",
      "  Downloading tensorflow_io_gcs_filesystem-0.24.0-cp39-cp39-win_amd64.whl (1.5 MB)\n",
      "Collecting libclang>=9.0.1\n",
      "  Downloading libclang-13.0.0-py2.py3-none-win_amd64.whl (13.9 MB)\n",
      "Requirement already satisfied: numpy>=1.20 in c:\\users\\amith reddy\\anaconda3\\lib\\site-packages (from Tensorflow) (1.20.3)\n",
      "Collecting tensorboard<2.9,>=2.8\n",
      "  Downloading tensorboard-2.8.0-py3-none-any.whl (5.8 MB)\n",
      "Collecting absl-py>=0.4.0\n",
      "  Downloading absl_py-1.0.0-py3-none-any.whl (126 kB)\n",
      "Collecting grpcio<2.0,>=1.24.3\n",
      "  Downloading grpcio-1.44.0-cp39-cp39-win_amd64.whl (3.4 MB)\n",
      "Requirement already satisfied: h5py>=2.9.0 in c:\\users\\amith reddy\\anaconda3\\lib\\site-packages (from Tensorflow) (3.2.1)\n",
      "Requirement already satisfied: typing-extensions>=3.6.6 in c:\\users\\amith reddy\\anaconda3\\lib\\site-packages (from Tensorflow) (3.10.0.2)\n",
      "Collecting keras-preprocessing>=1.1.1\n",
      "  Downloading Keras_Preprocessing-1.1.2-py2.py3-none-any.whl (42 kB)\n",
      "Collecting astunparse>=1.6.0\n",
      "  Downloading astunparse-1.6.3-py2.py3-none-any.whl (12 kB)\n",
      "Collecting google-pasta>=0.1.1\n",
      "  Downloading google_pasta-0.2.0-py3-none-any.whl (57 kB)\n",
      "Requirement already satisfied: keras<2.9,>=2.8.0rc0 in c:\\users\\amith reddy\\anaconda3\\lib\\site-packages (from Tensorflow) (2.8.0)\n",
      "Requirement already satisfied: wheel<1.0,>=0.23.0 in c:\\users\\amith reddy\\anaconda3\\lib\\site-packages (from astunparse>=1.6.0->Tensorflow) (0.37.0)\n",
      "Requirement already satisfied: werkzeug>=0.11.15 in c:\\users\\amith reddy\\anaconda3\\lib\\site-packages (from tensorboard<2.9,>=2.8->Tensorflow) (2.0.2)\n",
      "Requirement already satisfied: requests<3,>=2.21.0 in c:\\users\\amith reddy\\anaconda3\\lib\\site-packages (from tensorboard<2.9,>=2.8->Tensorflow) (2.26.0)\n",
      "Collecting tensorboard-data-server<0.7.0,>=0.6.0\n",
      "  Downloading tensorboard_data_server-0.6.1-py3-none-any.whl (2.4 kB)\n",
      "Collecting markdown>=2.6.8\n",
      "  Downloading Markdown-3.3.6-py3-none-any.whl (97 kB)\n",
      "Collecting tensorboard-plugin-wit>=1.6.0\n",
      "  Downloading tensorboard_plugin_wit-1.8.1-py3-none-any.whl (781 kB)\n",
      "Collecting google-auth<3,>=1.6.3\n",
      "  Downloading google_auth-2.6.3-py2.py3-none-any.whl (156 kB)\n",
      "Collecting google-auth-oauthlib<0.5,>=0.4.1\n",
      "  Downloading google_auth_oauthlib-0.4.6-py2.py3-none-any.whl (18 kB)\n",
      "Collecting cachetools<6.0,>=2.0.0\n",
      "  Downloading cachetools-5.0.0-py3-none-any.whl (9.1 kB)\n",
      "Collecting pyasn1-modules>=0.2.1\n",
      "  Downloading pyasn1_modules-0.2.8-py2.py3-none-any.whl (155 kB)\n",
      "Collecting rsa<5,>=3.1.4\n",
      "  Downloading rsa-4.8-py3-none-any.whl (39 kB)\n",
      "Collecting requests-oauthlib>=0.7.0\n",
      "  Downloading requests_oauthlib-1.3.1-py2.py3-none-any.whl (23 kB)\n",
      "Requirement already satisfied: importlib-metadata>=4.4 in c:\\users\\amith reddy\\anaconda3\\lib\\site-packages (from markdown>=2.6.8->tensorboard<2.9,>=2.8->Tensorflow) (4.8.1)\n",
      "Requirement already satisfied: zipp>=0.5 in c:\\users\\amith reddy\\anaconda3\\lib\\site-packages (from importlib-metadata>=4.4->markdown>=2.6.8->tensorboard<2.9,>=2.8->Tensorflow) (3.6.0)\n",
      "Collecting pyasn1<0.5.0,>=0.4.6\n",
      "  Downloading pyasn1-0.4.8-py2.py3-none-any.whl (77 kB)\n",
      "Requirement already satisfied: certifi>=2017.4.17 in c:\\users\\amith reddy\\anaconda3\\lib\\site-packages (from requests<3,>=2.21.0->tensorboard<2.9,>=2.8->Tensorflow) (2021.10.8)\n",
      "Requirement already satisfied: urllib3<1.27,>=1.21.1 in c:\\users\\amith reddy\\anaconda3\\lib\\site-packages (from requests<3,>=2.21.0->tensorboard<2.9,>=2.8->Tensorflow) (1.26.7)\n",
      "Requirement already satisfied: charset-normalizer~=2.0.0 in c:\\users\\amith reddy\\anaconda3\\lib\\site-packages (from requests<3,>=2.21.0->tensorboard<2.9,>=2.8->Tensorflow) (2.0.4)\n",
      "Requirement already satisfied: idna<4,>=2.5 in c:\\users\\amith reddy\\anaconda3\\lib\\site-packages (from requests<3,>=2.21.0->tensorboard<2.9,>=2.8->Tensorflow) (3.2)\n",
      "Collecting oauthlib>=3.0.0\n",
      "  Downloading oauthlib-3.2.0-py3-none-any.whl (151 kB)\n",
      "Building wheels for collected packages: termcolor\n",
      "  Building wheel for termcolor (setup.py): started\n",
      "  Building wheel for termcolor (setup.py): finished with status 'done'\n",
      "  Created wheel for termcolor: filename=termcolor-1.1.0-py3-none-any.whl size=4847 sha256=b1d5142d6f5fc772ed0fad7ccb94448882c7a27d1ddf8931c044d92d8e11f4a2\n",
      "  Stored in directory: c:\\users\\amith reddy\\appdata\\local\\pip\\cache\\wheels\\b6\\0d\\90\\0d1bbd99855f99cb2f6c2e5ff96f8023fad8ec367695f7d72d\n",
      "Successfully built termcolor\n",
      "Installing collected packages: pyasn1, rsa, pyasn1-modules, oauthlib, cachetools, requests-oauthlib, google-auth, tensorboard-plugin-wit, tensorboard-data-server, protobuf, markdown, grpcio, google-auth-oauthlib, absl-py, tf-estimator-nightly, termcolor, tensorflow-io-gcs-filesystem, tensorboard, opt-einsum, libclang, keras-preprocessing, google-pasta, gast, flatbuffers, astunparse, Tensorflow\n",
      "Successfully installed Tensorflow-2.8.0 absl-py-1.0.0 astunparse-1.6.3 cachetools-5.0.0 flatbuffers-2.0 gast-0.5.3 google-auth-2.6.3 google-auth-oauthlib-0.4.6 google-pasta-0.2.0 grpcio-1.44.0 keras-preprocessing-1.1.2 libclang-13.0.0 markdown-3.3.6 oauthlib-3.2.0 opt-einsum-3.3.0 protobuf-3.20.0 pyasn1-0.4.8 pyasn1-modules-0.2.8 requests-oauthlib-1.3.1 rsa-4.8 tensorboard-2.8.0 tensorboard-data-server-0.6.1 tensorboard-plugin-wit-1.8.1 tensorflow-io-gcs-filesystem-0.24.0 termcolor-1.1.0 tf-estimator-nightly-2.8.0.dev2021122109\n"
     ]
    }
   ],
   "source": [
    "!pip install Tensorflow"
   ]
  },
  {
   "cell_type": "code",
   "execution_count": 24,
   "id": "0c3532e1",
   "metadata": {},
   "outputs": [],
   "source": [
    "#Building RNN\n",
    "#importing keras libraries and packages\n",
    "from keras.models import Sequential\n",
    "from keras.layers import Dense\n",
    "from keras.layers import LSTM\n",
    "from keras.layers import Dropout"
   ]
  },
  {
   "cell_type": "code",
   "execution_count": 25,
   "id": "04b15e7a",
   "metadata": {},
   "outputs": [],
   "source": [
    "#Initialising RNN\n",
    "reg = Sequential()"
   ]
  },
  {
   "cell_type": "code",
   "execution_count": 26,
   "id": "32962f23",
   "metadata": {},
   "outputs": [],
   "source": [
    "#Adding first layer LSTM and some dropout reqularisation\n",
    "reg.add(LSTM(units = 50, return_sequences = True, input_shape = (x_train.shape[1],1)))\n",
    "reg.add(Dropout(0.2))"
   ]
  },
  {
   "cell_type": "code",
   "execution_count": 29,
   "id": "baeb3561",
   "metadata": {},
   "outputs": [],
   "source": [
    "#Adding Second layer LSTM and some dropout reqularisation\n",
    "reg.add(LSTM(units = 50, return_sequences = True))\n",
    "reg.add(Dropout(0.2))"
   ]
  },
  {
   "cell_type": "code",
   "execution_count": 30,
   "id": "c1acf33c",
   "metadata": {},
   "outputs": [],
   "source": [
    "#Adding Third layer LSTM and some dropout reqularisation\n",
    "reg.add(LSTM(units = 50, return_sequences = True))\n",
    "reg.add(Dropout(0.2))"
   ]
  },
  {
   "cell_type": "code",
   "execution_count": 31,
   "id": "1537084d",
   "metadata": {},
   "outputs": [],
   "source": [
    "#Adding Fourth layer LSTM and some dropout reqularisation\n",
    "reg.add(LSTM(units = 50))\n",
    "reg.add(Dropout(0.2))"
   ]
  },
  {
   "cell_type": "code",
   "execution_count": 32,
   "id": "cdf62ea1",
   "metadata": {},
   "outputs": [],
   "source": [
    "#Adding output layer\n",
    "reg.add(Dense(units = 1))"
   ]
  },
  {
   "cell_type": "code",
   "execution_count": 34,
   "id": "704bbf03",
   "metadata": {},
   "outputs": [],
   "source": [
    "#Compiling the RNN\n",
    "reg.compile(optimizer = 'adam', loss='mean_squared_error')"
   ]
  },
  {
   "cell_type": "code",
   "execution_count": 35,
   "id": "9931fd0c",
   "metadata": {},
   "outputs": [
    {
     "name": "stdout",
     "output_type": "stream",
     "text": [
      "Epoch 1/100\n",
      "38/38 [==============================] - 25s 204ms/step - loss: 0.0121\n",
      "Epoch 2/100\n",
      "38/38 [==============================] - 8s 198ms/step - loss: 0.0019\n",
      "Epoch 3/100\n",
      "38/38 [==============================] - 8s 199ms/step - loss: 0.0022\n",
      "Epoch 4/100\n",
      "38/38 [==============================] - 8s 197ms/step - loss: 0.0018\n",
      "Epoch 5/100\n",
      "38/38 [==============================] - 8s 199ms/step - loss: 0.0016\n",
      "Epoch 6/100\n",
      "38/38 [==============================] - 8s 199ms/step - loss: 0.0017\n",
      "Epoch 7/100\n",
      "38/38 [==============================] - 8s 198ms/step - loss: 0.0015\n",
      "Epoch 8/100\n",
      "38/38 [==============================] - 8s 198ms/step - loss: 0.0015\n",
      "Epoch 9/100\n",
      "38/38 [==============================] - 8s 199ms/step - loss: 0.0015\n",
      "Epoch 10/100\n",
      "38/38 [==============================] - 8s 199ms/step - loss: 0.0015\n",
      "Epoch 11/100\n",
      "38/38 [==============================] - 8s 200ms/step - loss: 0.0013\n",
      "Epoch 12/100\n",
      "38/38 [==============================] - 8s 198ms/step - loss: 0.0011\n",
      "Epoch 13/100\n",
      "38/38 [==============================] - 8s 199ms/step - loss: 0.0012\n",
      "Epoch 14/100\n",
      "38/38 [==============================] - 8s 200ms/step - loss: 0.0013\n",
      "Epoch 15/100\n",
      "38/38 [==============================] - 8s 198ms/step - loss: 0.0015\n",
      "Epoch 16/100\n",
      "38/38 [==============================] - 8s 199ms/step - loss: 0.0013\n",
      "Epoch 17/100\n",
      "38/38 [==============================] - 8s 198ms/step - loss: 0.0012\n",
      "Epoch 18/100\n",
      "38/38 [==============================] - 8s 201ms/step - loss: 0.0011\n",
      "Epoch 19/100\n",
      "38/38 [==============================] - 8s 200ms/step - loss: 0.0012\n",
      "Epoch 20/100\n",
      "38/38 [==============================] - 8s 200ms/step - loss: 0.0011\n",
      "Epoch 21/100\n",
      "38/38 [==============================] - 8s 199ms/step - loss: 0.0010\n",
      "Epoch 22/100\n",
      "38/38 [==============================] - 8s 198ms/step - loss: 0.0013\n",
      "Epoch 23/100\n",
      "38/38 [==============================] - 8s 199ms/step - loss: 0.0013\n",
      "Epoch 24/100\n",
      "38/38 [==============================] - 8s 199ms/step - loss: 0.0011\n",
      "Epoch 25/100\n",
      "38/38 [==============================] - 8s 200ms/step - loss: 0.0012\n",
      "Epoch 26/100\n",
      "38/38 [==============================] - 8s 200ms/step - loss: 9.1720e-04\n",
      "Epoch 27/100\n",
      "38/38 [==============================] - 8s 202ms/step - loss: 0.0010\n",
      "Epoch 28/100\n",
      "38/38 [==============================] - 8s 200ms/step - loss: 0.0011\n",
      "Epoch 29/100\n",
      "38/38 [==============================] - 8s 200ms/step - loss: 9.3392e-04\n",
      "Epoch 30/100\n",
      "38/38 [==============================] - 8s 200ms/step - loss: 0.0011\n",
      "Epoch 31/100\n",
      "38/38 [==============================] - 8s 199ms/step - loss: 9.2900e-04\n",
      "Epoch 32/100\n",
      "38/38 [==============================] - 8s 201ms/step - loss: 0.0015\n",
      "Epoch 33/100\n",
      "38/38 [==============================] - 8s 200ms/step - loss: 9.1727e-04\n",
      "Epoch 34/100\n",
      "38/38 [==============================] - 8s 201ms/step - loss: 9.5130e-04\n",
      "Epoch 35/100\n",
      "38/38 [==============================] - 8s 200ms/step - loss: 9.4385e-04\n",
      "Epoch 36/100\n",
      "38/38 [==============================] - 8s 201ms/step - loss: 0.0010\n",
      "Epoch 37/100\n",
      "38/38 [==============================] - 8s 199ms/step - loss: 9.5979e-04\n",
      "Epoch 38/100\n",
      "38/38 [==============================] - 8s 200ms/step - loss: 8.7933e-04\n",
      "Epoch 39/100\n",
      "38/38 [==============================] - 8s 201ms/step - loss: 9.7433e-04\n",
      "Epoch 40/100\n",
      "38/38 [==============================] - 8s 201ms/step - loss: 0.0012\n",
      "Epoch 41/100\n",
      "38/38 [==============================] - 8s 201ms/step - loss: 8.7261e-04\n",
      "Epoch 42/100\n",
      "38/38 [==============================] - 8s 201ms/step - loss: 8.1237e-04\n",
      "Epoch 43/100\n",
      "38/38 [==============================] - 8s 201ms/step - loss: 7.4011e-04\n",
      "Epoch 44/100\n",
      "38/38 [==============================] - 8s 201ms/step - loss: 9.0181e-04\n",
      "Epoch 45/100\n",
      "38/38 [==============================] - 8s 200ms/step - loss: 8.8539e-04\n",
      "Epoch 46/100\n",
      "38/38 [==============================] - 8s 197ms/step - loss: 7.8260e-04\n",
      "Epoch 47/100\n",
      "38/38 [==============================] - 8s 200ms/step - loss: 8.3651e-04\n",
      "Epoch 48/100\n",
      "38/38 [==============================] - 7s 197ms/step - loss: 0.0010\n",
      "Epoch 49/100\n",
      "38/38 [==============================] - 8s 203ms/step - loss: 7.9551e-04\n",
      "Epoch 50/100\n",
      "38/38 [==============================] - 8s 200ms/step - loss: 7.4899e-04\n",
      "Epoch 51/100\n",
      "38/38 [==============================] - 8s 201ms/step - loss: 6.2171e-04\n",
      "Epoch 52/100\n",
      "38/38 [==============================] - 8s 201ms/step - loss: 7.3838e-04\n",
      "Epoch 53/100\n",
      "38/38 [==============================] - 8s 202ms/step - loss: 7.3544e-04\n",
      "Epoch 54/100\n",
      "38/38 [==============================] - 8s 201ms/step - loss: 7.8072e-04\n",
      "Epoch 55/100\n",
      "38/38 [==============================] - 8s 202ms/step - loss: 6.9776e-04\n",
      "Epoch 56/100\n",
      "38/38 [==============================] - 8s 202ms/step - loss: 6.4620e-04\n",
      "Epoch 57/100\n",
      "38/38 [==============================] - 8s 200ms/step - loss: 7.2302e-04\n",
      "Epoch 58/100\n",
      "38/38 [==============================] - 7s 196ms/step - loss: 7.5113e-04\n",
      "Epoch 59/100\n",
      "38/38 [==============================] - 7s 197ms/step - loss: 6.9286e-04\n",
      "Epoch 60/100\n",
      "38/38 [==============================] - 8s 199ms/step - loss: 7.1240e-04\n",
      "Epoch 61/100\n",
      "38/38 [==============================] - 8s 200ms/step - loss: 6.6241e-04\n",
      "Epoch 62/100\n",
      "38/38 [==============================] - 8s 200ms/step - loss: 7.0157e-04\n",
      "Epoch 63/100\n",
      "38/38 [==============================] - 8s 200ms/step - loss: 6.9258e-04\n",
      "Epoch 64/100\n",
      "38/38 [==============================] - 8s 199ms/step - loss: 7.3159e-04\n",
      "Epoch 65/100\n",
      "38/38 [==============================] - 8s 198ms/step - loss: 7.0693e-04\n",
      "Epoch 66/100\n",
      "38/38 [==============================] - 8s 200ms/step - loss: 9.3922e-04\n",
      "Epoch 67/100\n",
      "38/38 [==============================] - 8s 202ms/step - loss: 6.0214e-04\n",
      "Epoch 68/100\n",
      "38/38 [==============================] - 7s 196ms/step - loss: 7.2011e-04\n",
      "Epoch 69/100\n",
      "38/38 [==============================] - 8s 204ms/step - loss: 7.2896e-04\n",
      "Epoch 70/100\n",
      "38/38 [==============================] - 8s 205ms/step - loss: 5.9993e-04\n",
      "Epoch 71/100\n",
      "38/38 [==============================] - 8s 200ms/step - loss: 5.9897e-04\n",
      "Epoch 72/100\n",
      "38/38 [==============================] - 8s 205ms/step - loss: 6.4279e-04\n",
      "Epoch 73/100\n",
      "38/38 [==============================] - 8s 206ms/step - loss: 5.6896e-04\n",
      "Epoch 74/100\n",
      "38/38 [==============================] - 8s 202ms/step - loss: 6.6924e-04\n",
      "Epoch 75/100\n",
      "38/38 [==============================] - 8s 203ms/step - loss: 7.6434e-04\n",
      "Epoch 76/100\n",
      "38/38 [==============================] - 8s 203ms/step - loss: 6.5217e-04\n",
      "Epoch 77/100\n",
      "38/38 [==============================] - 8s 200ms/step - loss: 5.4064e-04\n",
      "Epoch 78/100\n",
      "38/38 [==============================] - 8s 200ms/step - loss: 6.4135e-04\n",
      "Epoch 79/100\n",
      "38/38 [==============================] - 7s 196ms/step - loss: 5.1827e-04\n",
      "Epoch 80/100\n",
      "38/38 [==============================] - 8s 205ms/step - loss: 6.0090e-04\n",
      "Epoch 81/100\n",
      "38/38 [==============================] - 8s 205ms/step - loss: 6.5339e-04\n",
      "Epoch 82/100\n",
      "38/38 [==============================] - 8s 204ms/step - loss: 6.8230e-04\n",
      "Epoch 83/100\n",
      "38/38 [==============================] - 8s 204ms/step - loss: 6.0994e-04\n",
      "Epoch 84/100\n",
      "38/38 [==============================] - 8s 204ms/step - loss: 6.7239e-04\n",
      "Epoch 85/100\n",
      "38/38 [==============================] - 8s 206ms/step - loss: 6.4660e-04\n",
      "Epoch 86/100\n",
      "38/38 [==============================] - 8s 204ms/step - loss: 6.2387e-04\n",
      "Epoch 87/100\n",
      "38/38 [==============================] - 8s 204ms/step - loss: 6.0674e-04\n",
      "Epoch 88/100\n",
      "38/38 [==============================] - 8s 205ms/step - loss: 6.2868e-04\n",
      "Epoch 89/100\n",
      "38/38 [==============================] - 8s 203ms/step - loss: 6.9772e-04\n",
      "Epoch 90/100\n",
      "38/38 [==============================] - 8s 203ms/step - loss: 5.5050e-04\n",
      "Epoch 91/100\n",
      "38/38 [==============================] - 8s 204ms/step - loss: 5.6019e-04\n",
      "Epoch 92/100\n",
      "38/38 [==============================] - 8s 203ms/step - loss: 5.4547e-04\n",
      "Epoch 93/100\n",
      "38/38 [==============================] - 8s 203ms/step - loss: 5.4208e-04\n",
      "Epoch 94/100\n",
      "38/38 [==============================] - 8s 205ms/step - loss: 5.6938e-04\n",
      "Epoch 95/100\n",
      "38/38 [==============================] - 8s 205ms/step - loss: 5.9327e-04\n",
      "Epoch 96/100\n"
     ]
    },
    {
     "name": "stdout",
     "output_type": "stream",
     "text": [
      "38/38 [==============================] - 8s 202ms/step - loss: 5.5774e-04\n",
      "Epoch 97/100\n",
      "38/38 [==============================] - 8s 204ms/step - loss: 5.5901e-04\n",
      "Epoch 98/100\n",
      "38/38 [==============================] - 8s 206ms/step - loss: 4.9231e-04\n",
      "Epoch 99/100\n",
      "38/38 [==============================] - 8s 206ms/step - loss: 4.9688e-04\n",
      "Epoch 100/100\n",
      "38/38 [==============================] - 8s 207ms/step - loss: 5.3896e-04\n"
     ]
    },
    {
     "data": {
      "text/plain": [
       "<keras.callbacks.History at 0x214667b6f10>"
      ]
     },
     "execution_count": 35,
     "metadata": {},
     "output_type": "execute_result"
    }
   ],
   "source": [
    "#Fitting the RNN to training data\n",
    "reg.fit(x_train,y_train,epochs=100,batch_size=32)"
   ]
  },
  {
   "cell_type": "code",
   "execution_count": 41,
   "id": "c4c127df",
   "metadata": {},
   "outputs": [],
   "source": [
    "#making the predictions and visulization\n",
    "test = y.iloc[:,1:].values"
   ]
  },
  {
   "cell_type": "code",
   "execution_count": 42,
   "id": "1739b296",
   "metadata": {},
   "outputs": [
    {
     "data": {
      "text/plain": [
       "array([[ 264.119995,   53.364532,  123.5     ,   33.861427],\n",
       "       [ 269.899994,   53.93602 ,  123.209999,   34.142857],\n",
       "       [ 268.859985,   53.355167,  123.800003,   33.869999],\n",
       "       ...,\n",
       "       [1820.699951,  253.110001, 4913.359863,  369.75    ],\n",
       "       [1861.689941,  267.609985, 5295.529785,  360.350006],\n",
       "       [1917.77002 ,  283.149994, 6171.959961,  364.369995]])"
      ]
     },
     "execution_count": 42,
     "metadata": {},
     "output_type": "execute_result"
    }
   ],
   "source": [
    "test"
   ]
  },
  {
   "cell_type": "code",
   "execution_count": 50,
   "id": "012c2d8c",
   "metadata": {},
   "outputs": [
    {
     "data": {
      "application/javascript": [
       "\n",
       "        if (window._pyforest_update_imports_cell) { window._pyforest_update_imports_cell('import pandas as pd\\nimport numpy as np'); }\n",
       "    "
      ],
      "text/plain": [
       "<IPython.core.display.Javascript object>"
      ]
     },
     "metadata": {},
     "output_type": "display_data"
    }
   ],
   "source": [
    "dataset = pd.concat((x[['AMZN','DPZ','BTC','NFLX']],y[['AMZN','DPZ','BTC','NFLX']]),axis=0)"
   ]
  },
  {
   "cell_type": "code",
   "execution_count": 51,
   "id": "d54b34cf",
   "metadata": {},
   "outputs": [
    {
     "data": {
      "text/html": [
       "<div>\n",
       "<style scoped>\n",
       "    .dataframe tbody tr th:only-of-type {\n",
       "        vertical-align: middle;\n",
       "    }\n",
       "\n",
       "    .dataframe tbody tr th {\n",
       "        vertical-align: top;\n",
       "    }\n",
       "\n",
       "    .dataframe thead th {\n",
       "        text-align: right;\n",
       "    }\n",
       "</style>\n",
       "<table border=\"1\" class=\"dataframe\">\n",
       "  <thead>\n",
       "    <tr style=\"text-align: right;\">\n",
       "      <th></th>\n",
       "      <th>AMZN</th>\n",
       "      <th>DPZ</th>\n",
       "      <th>BTC</th>\n",
       "      <th>NFLX</th>\n",
       "    </tr>\n",
       "  </thead>\n",
       "  <tbody>\n",
       "    <tr>\n",
       "      <th>1165</th>\n",
       "      <td>1164.130005</td>\n",
       "      <td>178.038895</td>\n",
       "      <td>16286.820310</td>\n",
       "      <td>187.860001</td>\n",
       "    </tr>\n",
       "    <tr>\n",
       "      <th>513</th>\n",
       "      <td>432.279999</td>\n",
       "      <td>105.580681</td>\n",
       "      <td>237.199997</td>\n",
       "      <td>83.835716</td>\n",
       "    </tr>\n",
       "    <tr>\n",
       "      <th>254</th>\n",
       "      <td>310.049988</td>\n",
       "      <td>68.786476</td>\n",
       "      <td>432.190002</td>\n",
       "      <td>49.197144</td>\n",
       "    </tr>\n",
       "    <tr>\n",
       "      <th>965</th>\n",
       "      <td>853.080017</td>\n",
       "      <td>183.563782</td>\n",
       "      <td>1222.660034</td>\n",
       "      <td>142.649994</td>\n",
       "    </tr>\n",
       "    <tr>\n",
       "      <th>937</th>\n",
       "      <td>809.039978</td>\n",
       "      <td>162.597656</td>\n",
       "      <td>895.210022</td>\n",
       "      <td>138.410004</td>\n",
       "    </tr>\n",
       "    <tr>\n",
       "      <th>...</th>\n",
       "      <td>...</td>\n",
       "      <td>...</td>\n",
       "      <td>...</td>\n",
       "      <td>...</td>\n",
       "    </tr>\n",
       "    <tr>\n",
       "      <th>1484</th>\n",
       "      <td>1774.260010</td>\n",
       "      <td>242.559998</td>\n",
       "      <td>3924.550049</td>\n",
       "      <td>366.230011</td>\n",
       "    </tr>\n",
       "    <tr>\n",
       "      <th>1486</th>\n",
       "      <td>1765.699951</td>\n",
       "      <td>247.580002</td>\n",
       "      <td>4045.979980</td>\n",
       "      <td>353.369995</td>\n",
       "    </tr>\n",
       "    <tr>\n",
       "      <th>1491</th>\n",
       "      <td>1820.699951</td>\n",
       "      <td>253.110001</td>\n",
       "      <td>4913.359863</td>\n",
       "      <td>369.750000</td>\n",
       "    </tr>\n",
       "    <tr>\n",
       "      <th>1502</th>\n",
       "      <td>1861.689941</td>\n",
       "      <td>267.609985</td>\n",
       "      <td>5295.529785</td>\n",
       "      <td>360.350006</td>\n",
       "    </tr>\n",
       "    <tr>\n",
       "      <th>1515</th>\n",
       "      <td>1917.770020</td>\n",
       "      <td>283.149994</td>\n",
       "      <td>6171.959961</td>\n",
       "      <td>364.369995</td>\n",
       "    </tr>\n",
       "  </tbody>\n",
       "</table>\n",
       "<p>1520 rows × 4 columns</p>\n",
       "</div>"
      ],
      "text/plain": [
       "             AMZN         DPZ           BTC        NFLX\n",
       "1165  1164.130005  178.038895  16286.820310  187.860001\n",
       "513    432.279999  105.580681    237.199997   83.835716\n",
       "254    310.049988   68.786476    432.190002   49.197144\n",
       "965    853.080017  183.563782   1222.660034  142.649994\n",
       "937    809.039978  162.597656    895.210022  138.410004\n",
       "...           ...         ...           ...         ...\n",
       "1484  1774.260010  242.559998   3924.550049  366.230011\n",
       "1486  1765.699951  247.580002   4045.979980  353.369995\n",
       "1491  1820.699951  253.110001   4913.359863  369.750000\n",
       "1502  1861.689941  267.609985   5295.529785  360.350006\n",
       "1515  1917.770020  283.149994   6171.959961  364.369995\n",
       "\n",
       "[1520 rows x 4 columns]"
      ]
     },
     "execution_count": 51,
     "metadata": {},
     "output_type": "execute_result"
    }
   ],
   "source": [
    "dataset"
   ]
  },
  {
   "cell_type": "code",
   "execution_count": 115,
   "id": "231de03f",
   "metadata": {},
   "outputs": [],
   "source": [
    "y1=y.iloc[:,1:]"
   ]
  },
  {
   "cell_type": "code",
   "execution_count": 116,
   "id": "e0743609",
   "metadata": {},
   "outputs": [],
   "source": [
    "inputs = dataset[len(dataset)-len(y1)-60:].values"
   ]
  },
  {
   "cell_type": "code",
   "execution_count": 117,
   "id": "7a0c753b",
   "metadata": {},
   "outputs": [
    {
     "data": {
      "text/plain": [
       "array([[ 529.440002,  106.477127,  235.600006,   97.510002],\n",
       "       [1696.199951,  266.751465, 3648.050049,  339.100006],\n",
       "       [ 539.799988,  101.801483,  245.350006,  113.330002],\n",
       "       ...,\n",
       "       [1820.699951,  253.110001, 4913.359863,  369.75    ],\n",
       "       [1861.689941,  267.609985, 5295.529785,  360.350006],\n",
       "       [1917.77002 ,  283.149994, 6171.959961,  364.369995]])"
      ]
     },
     "execution_count": 117,
     "metadata": {},
     "output_type": "execute_result"
    }
   ],
   "source": [
    "inputs"
   ]
  },
  {
   "cell_type": "code",
   "execution_count": 118,
   "id": "60085029",
   "metadata": {},
   "outputs": [],
   "source": [
    "#inputs = inputs.reshape(-1,1)"
   ]
  },
  {
   "cell_type": "code",
   "execution_count": 119,
   "id": "ed793599",
   "metadata": {},
   "outputs": [
    {
     "data": {
      "text/plain": [
       "array([[ 529.440002,  106.477127,  235.600006,   97.510002],\n",
       "       [1696.199951,  266.751465, 3648.050049,  339.100006],\n",
       "       [ 539.799988,  101.801483,  245.350006,  113.330002],\n",
       "       ...,\n",
       "       [1820.699951,  253.110001, 4913.359863,  369.75    ],\n",
       "       [1861.689941,  267.609985, 5295.529785,  360.350006],\n",
       "       [1917.77002 ,  283.149994, 6171.959961,  364.369995]])"
      ]
     },
     "execution_count": 119,
     "metadata": {},
     "output_type": "execute_result"
    }
   ],
   "source": [
    "inputs"
   ]
  },
  {
   "cell_type": "code",
   "execution_count": 120,
   "id": "56a2b5c7",
   "metadata": {},
   "outputs": [],
   "source": [
    "#inputs = sc.transform(inputs)"
   ]
  },
  {
   "cell_type": "code",
   "execution_count": 121,
   "id": "3fd53e96",
   "metadata": {},
   "outputs": [
    {
     "data": {
      "text/plain": [
       "array([[ 529.440002,  106.477127,  235.600006,   97.510002],\n",
       "       [1696.199951,  266.751465, 3648.050049,  339.100006],\n",
       "       [ 539.799988,  101.801483,  245.350006,  113.330002],\n",
       "       ...,\n",
       "       [1820.699951,  253.110001, 4913.359863,  369.75    ],\n",
       "       [1861.689941,  267.609985, 5295.529785,  360.350006],\n",
       "       [1917.77002 ,  283.149994, 6171.959961,  364.369995]])"
      ]
     },
     "execution_count": 121,
     "metadata": {},
     "output_type": "execute_result"
    }
   ],
   "source": [
    "inputs"
   ]
  },
  {
   "cell_type": "code",
   "execution_count": 122,
   "id": "ed8184b1",
   "metadata": {},
   "outputs": [],
   "source": [
    "#x_test=[]\n",
    "#for i in range(60, 80):\n",
    " #   x_test.append(inputs[i-60:i, 0])"
   ]
  },
  {
   "cell_type": "code",
   "execution_count": 123,
   "id": "7f9d23c9",
   "metadata": {},
   "outputs": [],
   "source": [
    "#x_test = np.array(x_test)"
   ]
  },
  {
   "cell_type": "code",
   "execution_count": 124,
   "id": "e3f87a80",
   "metadata": {},
   "outputs": [
    {
     "data": {
      "text/plain": [
       "array([[ 529.440002, 1696.199951,  539.799988, ...,  362.700012,\n",
       "        1046.      , 1608.      ],\n",
       "       [1696.199951,  539.799988,  373.230011, ..., 1046.      ,\n",
       "        1608.      ,  264.119995],\n",
       "       [ 539.799988,  373.230011, 1010.070007, ..., 1608.      ,\n",
       "         264.119995,  269.899994],\n",
       "       ...,\n",
       "       [ 361.079987, 1500.25    , 1847.75    , ...,  294.100006,\n",
       "         295.859985,  300.359985],\n",
       "       [1500.25    , 1847.75    ,  364.75    , ...,  295.859985,\n",
       "         300.359985,  298.859985],\n",
       "       [1847.75    ,  364.75    , 1863.609985, ...,  300.359985,\n",
       "         298.859985,  316.339996]])"
      ]
     },
     "execution_count": 124,
     "metadata": {},
     "output_type": "execute_result"
    }
   ],
   "source": [
    "x_test"
   ]
  },
  {
   "cell_type": "code",
   "execution_count": 125,
   "id": "7235b0bf",
   "metadata": {},
   "outputs": [],
   "source": [
    "#x_test = np.reshape(x_test,(x_test.shape[0],x_test.shape[1],1))"
   ]
  },
  {
   "cell_type": "code",
   "execution_count": 126,
   "id": "38083cce",
   "metadata": {},
   "outputs": [],
   "source": [
    "pred = reg.predict(x_test)"
   ]
  },
  {
   "cell_type": "code",
   "execution_count": 127,
   "id": "d360aa24",
   "metadata": {},
   "outputs": [
    {
     "data": {
      "text/plain": [
       "array([[0.83100677],\n",
       "       [0.8309832 ],\n",
       "       [0.83097726],\n",
       "       [0.83097035],\n",
       "       [0.8309637 ],\n",
       "       [0.830959  ],\n",
       "       [0.8309548 ],\n",
       "       [0.83095175],\n",
       "       [0.83094954],\n",
       "       [0.8309481 ],\n",
       "       [0.83094853],\n",
       "       [0.8309489 ],\n",
       "       [0.8309497 ],\n",
       "       [0.83094853],\n",
       "       [0.8309479 ],\n",
       "       [0.8309486 ],\n",
       "       [0.830949  ],\n",
       "       [0.8309496 ],\n",
       "       [0.8309499 ],\n",
       "       [0.83095217]], dtype=float32)"
      ]
     },
     "execution_count": 127,
     "metadata": {},
     "output_type": "execute_result"
    }
   ],
   "source": [
    "pred "
   ]
  },
  {
   "cell_type": "code",
   "execution_count": 128,
   "id": "41f35ac6",
   "metadata": {},
   "outputs": [
    {
     "data": {
      "application/javascript": [
       "\n",
       "        if (window._pyforest_update_imports_cell) { window._pyforest_update_imports_cell('import matplotlib.pyplot as plt\\nimport pandas as pd\\nimport numpy as np'); }\n",
       "    "
      ],
      "text/plain": [
       "<IPython.core.display.Javascript object>"
      ]
     },
     "metadata": {},
     "output_type": "display_data"
    },
    {
     "data": {
      "application/javascript": [
       "\n",
       "        if (window._pyforest_update_imports_cell) { window._pyforest_update_imports_cell('import matplotlib.pyplot as plt\\nimport pandas as pd\\nimport numpy as np'); }\n",
       "    "
      ],
      "text/plain": [
       "<IPython.core.display.Javascript object>"
      ]
     },
     "metadata": {},
     "output_type": "display_data"
    },
    {
     "data": {
      "text/plain": [
       "[<matplotlib.lines.Line2D at 0x2147d778a00>]"
      ]
     },
     "execution_count": 128,
     "metadata": {},
     "output_type": "execute_result"
    },
    {
     "data": {
      "image/png": "[encoded data removed]",
      "text/plain": [
       "<Figure size 432x288 with 1 Axes>"
      ]
     },
     "metadata": {
      "needs_background": "light"
     },
     "output_type": "display_data"
    }
   ],
   "source": [
    "plt.plot(test,color='red',label='Actual Stock Price')\n",
    "plt.plot(pred,color='blue',label='Predicted Stock Price')"
   ]
  },
  {
   "cell_type": "code",
   "execution_count": 129,
   "id": "0c32dbae",
   "metadata": {},
   "outputs": [
    {
     "data": {
      "application/javascript": [
       "\n",
       "        if (window._pyforest_update_imports_cell) { window._pyforest_update_imports_cell('import matplotlib.pyplot as plt\\nimport pandas as pd\\nimport numpy as np'); }\n",
       "    "
      ],
      "text/plain": [
       "<IPython.core.display.Javascript object>"
      ]
     },
     "metadata": {},
     "output_type": "display_data"
    },
    {
     "data": {
      "text/plain": [
       "[<matplotlib.lines.Line2D at 0x21466791e50>]"
      ]
     },
     "execution_count": 129,
     "metadata": {},
     "output_type": "execute_result"
    },
    {
     "data": {
      "image/png": "[encoded data removed]",
      "text/plain": [
       "<Figure size 432x288 with 1 Axes>"
      ]
     },
     "metadata": {
      "needs_background": "light"
     },
     "output_type": "display_data"
    }
   ],
   "source": [
    "plt.plot(pred,color='blue',label='Predicted Stock Price')"
   ]
  },
  {
   "cell_type": "code",
   "execution_count": null,
   "id": "2b8a3478",
   "metadata": {},
   "outputs": [],
   "source": []
  },
  {
   "cell_type": "code",
   "execution_count": null,
   "id": "134b491f",
   "metadata": {},
   "outputs": [],
   "source": []
  },
  {
   "cell_type": "code",
   "execution_count": null,
   "id": "beffb4ce",
   "metadata": {},
   "outputs": [],
   "source": []
  },
  {
   "cell_type": "code",
   "execution_count": null,
   "id": "7d0f5026",
   "metadata": {},
   "outputs": [],
   "source": []
  },
  {
   "cell_type": "code",
   "execution_count": null,
   "id": "d714eaa0",
   "metadata": {},
   "outputs": [],
   "source": []
  }
 ],
 "metadata": {
  "kernelspec": {
   "display_name": "Python 3 (ipykernel)",
   "language": "python",
   "name": "python3"
  },
  "language_info": {
   "codemirror_mode": {
    "name": "ipython",
    "version": 3
   },
   "file_extension": ".py",
   "mimetype": "text/x-python",
   "name": "python",
   "nbconvert_exporter": "python",
   "pygments_lexer": "ipython3",
   "version": "3.9.7"
  }
 },
 "nbformat": 4,
 "nbformat_minor": 5
}
