{
 "cells": [
  {
   "cell_type": "markdown",
   "id": "6067467d",
   "metadata": {},
   "source": [
    "# Text Preprocessing using OHE and Word Embedding Layer"
   ]
  },
  {
   "cell_type": "code",
   "execution_count": 1,
   "id": "5af4cb55",
   "metadata": {
    "scrolled": true
   },
   "outputs": [
    {
     "name": "stdout",
     "output_type": "stream",
     "text": [
      "Requirement already satisfied: tensorflow in c:\\users\\amith\\anaconda3\\lib\\site-packages (2.9.1)\n",
      "Requirement already satisfied: protobuf<3.20,>=3.9.2 in c:\\users\\amith\\anaconda3\\lib\\site-packages (from tensorflow) (3.19.1)\n",
      "Requirement already satisfied: termcolor>=1.1.0 in c:\\users\\amith\\anaconda3\\lib\\site-packages (from tensorflow) (1.1.0)\n",
      "Requirement already satisfied: flatbuffers<2,>=1.12 in c:\\users\\amith\\anaconda3\\lib\\site-packages (from tensorflow) (1.12)\n",
      "Requirement already satisfied: h5py>=2.9.0 in c:\\users\\amith\\anaconda3\\lib\\site-packages (from tensorflow) (3.6.0)\n",
      "Requirement already satisfied: gast<=0.4.0,>=0.2.1 in c:\\users\\amith\\anaconda3\\lib\\site-packages (from tensorflow) (0.4.0)\n",
      "Requirement already satisfied: opt-einsum>=2.3.2 in c:\\users\\amith\\anaconda3\\lib\\site-packages (from tensorflow) (3.3.0)\n",
      "Requirement already satisfied: wrapt>=1.11.0 in c:\\users\\amith\\anaconda3\\lib\\site-packages (from tensorflow) (1.12.1)\n",
      "Requirement already satisfied: tensorflow-estimator<2.10.0,>=2.9.0rc0 in c:\\users\\amith\\anaconda3\\lib\\site-packages (from tensorflow) (2.9.0)\n",
      "Requirement already satisfied: setuptools in c:\\users\\amith\\anaconda3\\lib\\site-packages (from tensorflow) (61.2.0)\n",
      "Requirement already satisfied: grpcio<2.0,>=1.24.3 in c:\\users\\amith\\anaconda3\\lib\\site-packages (from tensorflow) (1.42.0)\n",
      "Requirement already satisfied: absl-py>=1.0.0 in c:\\users\\amith\\anaconda3\\lib\\site-packages (from tensorflow) (1.1.0)\n",
      "Requirement already satisfied: keras-preprocessing>=1.1.1 in c:\\users\\amith\\anaconda3\\lib\\site-packages (from tensorflow) (1.1.2)\n",
      "Requirement already satisfied: tensorflow-io-gcs-filesystem>=0.23.1 in c:\\users\\amith\\anaconda3\\lib\\site-packages (from tensorflow) (0.26.0)\n",
      "Requirement already satisfied: astunparse>=1.6.0 in c:\\users\\amith\\anaconda3\\lib\\site-packages (from tensorflow) (1.6.3)\n",
      "Requirement already satisfied: packaging in c:\\users\\amith\\anaconda3\\lib\\site-packages (from tensorflow) (21.3)\n",
      "Requirement already satisfied: keras<2.10.0,>=2.9.0rc0 in c:\\users\\amith\\anaconda3\\lib\\site-packages (from tensorflow) (2.9.0)\n",
      "Requirement already satisfied: google-pasta>=0.1.1 in c:\\users\\amith\\anaconda3\\lib\\site-packages (from tensorflow) (0.2.0)\n",
      "Requirement already satisfied: typing-extensions>=3.6.6 in c:\\users\\amith\\anaconda3\\lib\\site-packages (from tensorflow) (4.1.1)\n",
      "Requirement already satisfied: tensorboard<2.10,>=2.9 in c:\\users\\amith\\anaconda3\\lib\\site-packages (from tensorflow) (2.9.0)\n",
      "Requirement already satisfied: numpy>=1.20 in c:\\users\\amith\\anaconda3\\lib\\site-packages (from tensorflow) (1.21.5)\n",
      "Requirement already satisfied: six>=1.12.0 in c:\\users\\amith\\anaconda3\\lib\\site-packages (from tensorflow) (1.16.0)\n",
      "Requirement already satisfied: libclang>=13.0.0 in c:\\users\\amith\\anaconda3\\lib\\site-packages (from tensorflow) (14.0.1)\n",
      "Requirement already satisfied: wheel<1.0,>=0.23.0 in c:\\users\\amith\\anaconda3\\lib\\site-packages (from astunparse>=1.6.0->tensorflow) (0.37.1)\n",
      "Requirement already satisfied: tensorboard-plugin-wit>=1.6.0 in c:\\users\\amith\\anaconda3\\lib\\site-packages (from tensorboard<2.10,>=2.9->tensorflow) (1.8.1)\n",
      "Requirement already satisfied: requests<3,>=2.21.0 in c:\\users\\amith\\anaconda3\\lib\\site-packages (from tensorboard<2.10,>=2.9->tensorflow) (2.27.1)\n",
      "Requirement already satisfied: werkzeug>=1.0.1 in c:\\users\\amith\\anaconda3\\lib\\site-packages (from tensorboard<2.10,>=2.9->tensorflow) (2.0.3)\n",
      "Requirement already satisfied: google-auth-oauthlib<0.5,>=0.4.1 in c:\\users\\amith\\anaconda3\\lib\\site-packages (from tensorboard<2.10,>=2.9->tensorflow) (0.4.6)\n",
      "Requirement already satisfied: tensorboard-data-server<0.7.0,>=0.6.0 in c:\\users\\amith\\anaconda3\\lib\\site-packages (from tensorboard<2.10,>=2.9->tensorflow) (0.6.1)\n",
      "Requirement already satisfied: markdown>=2.6.8 in c:\\users\\amith\\anaconda3\\lib\\site-packages (from tensorboard<2.10,>=2.9->tensorflow) (3.3.4)\n",
      "Requirement already satisfied: google-auth<3,>=1.6.3 in c:\\users\\amith\\anaconda3\\lib\\site-packages (from tensorboard<2.10,>=2.9->tensorflow) (1.33.0)\n",
      "Requirement already satisfied: pyasn1-modules>=0.2.1 in c:\\users\\amith\\anaconda3\\lib\\site-packages (from google-auth<3,>=1.6.3->tensorboard<2.10,>=2.9->tensorflow) (0.2.8)\n",
      "Requirement already satisfied: cachetools<5.0,>=2.0.0 in c:\\users\\amith\\anaconda3\\lib\\site-packages (from google-auth<3,>=1.6.3->tensorboard<2.10,>=2.9->tensorflow) (4.2.2)\n",
      "Requirement already satisfied: rsa<5,>=3.1.4 in c:\\users\\amith\\anaconda3\\lib\\site-packages (from google-auth<3,>=1.6.3->tensorboard<2.10,>=2.9->tensorflow) (4.7.2)\n",
      "Requirement already satisfied: requests-oauthlib>=0.7.0 in c:\\users\\amith\\anaconda3\\lib\\site-packages (from google-auth-oauthlib<0.5,>=0.4.1->tensorboard<2.10,>=2.9->tensorflow) (1.3.1)\n",
      "Requirement already satisfied: pyasn1<0.5.0,>=0.4.6 in c:\\users\\amith\\anaconda3\\lib\\site-packages (from pyasn1-modules>=0.2.1->google-auth<3,>=1.6.3->tensorboard<2.10,>=2.9->tensorflow) (0.4.8)\n",
      "Requirement already satisfied: idna<4,>=2.5 in c:\\users\\amith\\anaconda3\\lib\\site-packages (from requests<3,>=2.21.0->tensorboard<2.10,>=2.9->tensorflow) (3.3)\n",
      "Requirement already satisfied: certifi>=2017.4.17 in c:\\users\\amith\\anaconda3\\lib\\site-packages (from requests<3,>=2.21.0->tensorboard<2.10,>=2.9->tensorflow) (2021.10.8)\n",
      "Requirement already satisfied: charset-normalizer~=2.0.0 in c:\\users\\amith\\anaconda3\\lib\\site-packages (from requests<3,>=2.21.0->tensorboard<2.10,>=2.9->tensorflow) (2.0.4)\n",
      "Requirement already satisfied: urllib3<1.27,>=1.21.1 in c:\\users\\amith\\anaconda3\\lib\\site-packages (from requests<3,>=2.21.0->tensorboard<2.10,>=2.9->tensorflow) (1.26.9)\n",
      "Requirement already satisfied: oauthlib>=3.0.0 in c:\\users\\amith\\anaconda3\\lib\\site-packages (from requests-oauthlib>=0.7.0->google-auth-oauthlib<0.5,>=0.4.1->tensorboard<2.10,>=2.9->tensorflow) (3.2.0)\n",
      "Requirement already satisfied: pyparsing!=3.0.5,>=2.0.2 in c:\\users\\amith\\anaconda3\\lib\\site-packages (from packaging->tensorflow) (3.0.4)\n"
     ]
    }
   ],
   "source": [
    "!pip install tensorflow"
   ]
  },
  {
   "cell_type": "code",
   "execution_count": 2,
   "id": "c4e7630a",
   "metadata": {},
   "outputs": [],
   "source": [
    "from tensorflow.keras.preprocessing.text import one_hot"
   ]
  },
  {
   "cell_type": "code",
   "execution_count": 14,
   "id": "e7554516",
   "metadata": {},
   "outputs": [],
   "source": [
    "corpus = ['Hello everyone',\n",
    "         'Welcome to the conferrence',\n",
    "         'Hope everyone is doing good',\n",
    "         'People like coffee',\n",
    "         'I like data science',\n",
    "         'There are lot of resources available']"
   ]
  },
  {
   "cell_type": "code",
   "execution_count": 15,
   "id": "6435ae6b",
   "metadata": {},
   "outputs": [
    {
     "data": {
      "text/plain": [
       "['Hello everyone',\n",
       " 'Welcome to the conferrence',\n",
       " 'Hope everyone is doing good',\n",
       " 'People like coffee',\n",
       " 'I like data science',\n",
       " 'There are lot of resources available']"
      ]
     },
     "execution_count": 15,
     "metadata": {},
     "output_type": "execute_result"
    }
   ],
   "source": [
    "corpus"
   ]
  },
  {
   "cell_type": "code",
   "execution_count": 16,
   "id": "db029cf1",
   "metadata": {},
   "outputs": [],
   "source": [
    "#Vocabulary Size\n",
    "#Larger vocabulary size gives us larger and good feature representation\n",
    "vocabulary_size = 50000 "
   ]
  },
  {
   "cell_type": "markdown",
   "id": "505219ee",
   "metadata": {},
   "source": [
    "# ONE HOT ENCODING "
   ]
  },
  {
   "cell_type": "code",
   "execution_count": 17,
   "id": "c831948f",
   "metadata": {},
   "outputs": [
    {
     "name": "stdout",
     "output_type": "stream",
     "text": [
      "[[40344, 34226], [5142, 17458, 37537, 14889], [43352, 34226, 457, 49123, 12664], [12857, 15719, 42206], [1019, 15719, 13555, 21969], [12163, 35612, 45388, 45584, 35174, 22657]]\n"
     ]
    }
   ],
   "source": [
    "ohr = [one_hot(words,vocabulary_size) for words in corpus]\n",
    "print(ohr)"
   ]
  },
  {
   "cell_type": "markdown",
   "id": "c1853458",
   "metadata": {},
   "source": [
    "# WORD EMBEDDING"
   ]
  },
  {
   "cell_type": "code",
   "execution_count": 11,
   "id": "26f1f4ea",
   "metadata": {},
   "outputs": [],
   "source": [
    "import pyforest"
   ]
  },
  {
   "cell_type": "code",
   "execution_count": 12,
   "id": "12a9a30a",
   "metadata": {},
   "outputs": [],
   "source": [
    "from tensorflow.keras.layers import Embedding\n",
    "from tensorflow.keras.preprocessing.sequence import pad_sequences"
   ]
  },
  {
   "cell_type": "code",
   "execution_count": 13,
   "id": "d264a434",
   "metadata": {},
   "outputs": [],
   "source": [
    "from tensorflow.keras.models import Sequential"
   ]
  },
  {
   "cell_type": "code",
   "execution_count": 18,
   "id": "733edbd7",
   "metadata": {},
   "outputs": [],
   "source": [
    "corpus_size = 7"
   ]
  },
  {
   "cell_type": "code",
   "execution_count": 20,
   "id": "005789b8",
   "metadata": {},
   "outputs": [],
   "source": [
    "#Post Padding\n",
    "embedded_corpus=pad_sequences(ohr,padding = 'post', maxlen = corpus_size)"
   ]
  },
  {
   "cell_type": "code",
   "execution_count": 28,
   "id": "23e39828",
   "metadata": {},
   "outputs": [
    {
     "data": {
      "text/plain": [
       "array([[40344, 34226,     0,     0,     0,     0,     0],\n",
       "       [ 5142, 17458, 37537, 14889,     0,     0,     0],\n",
       "       [43352, 34226,   457, 49123, 12664,     0,     0],\n",
       "       [12857, 15719, 42206,     0,     0,     0,     0],\n",
       "       [ 1019, 15719, 13555, 21969,     0,     0,     0],\n",
       "       [12163, 35612, 45388, 45584, 35174, 22657,     0]])"
      ]
     },
     "execution_count": 28,
     "metadata": {},
     "output_type": "execute_result"
    }
   ],
   "source": [
    "embedded_corpus"
   ]
  },
  {
   "cell_type": "code",
   "execution_count": 29,
   "id": "7e1dfbbb",
   "metadata": {},
   "outputs": [
    {
     "data": {
      "text/plain": [
       "array([ 5142, 17458, 37537, 14889,     0,     0,     0])"
      ]
     },
     "execution_count": 29,
     "metadata": {},
     "output_type": "execute_result"
    }
   ],
   "source": [
    "embedded_corpus[1]"
   ]
  },
  {
   "cell_type": "code",
   "execution_count": 23,
   "id": "b13c0a65",
   "metadata": {},
   "outputs": [],
   "source": [
    "mod = Sequential()"
   ]
  },
  {
   "cell_type": "code",
   "execution_count": 24,
   "id": "ad8a8706",
   "metadata": {},
   "outputs": [],
   "source": [
    "#Using Embedding layer training the model with vocabulary size and feature required to represent each and evry index, here i am using 10\n",
    "#As the data is less I took feature dimension length as 10, this may vary with respect to the amount of data\n",
    "#specify input length eaqual to corpus length\n",
    "mod.add(Embedding(vocabulary_size,10,input_length=corpus_size))"
   ]
  },
  {
   "cell_type": "code",
   "execution_count": 25,
   "id": "29948a10",
   "metadata": {},
   "outputs": [],
   "source": [
    "#compiling with adam activation function and taking the loss \n",
    "mod.compile('adam','mse')"
   ]
  },
  {
   "cell_type": "code",
   "execution_count": 27,
   "id": "55329dd5",
   "metadata": {},
   "outputs": [
    {
     "name": "stdout",
     "output_type": "stream",
     "text": [
      "Model: \"sequential\"\n",
      "_________________________________________________________________\n",
      " Layer (type)                Output Shape              Param #   \n",
      "=================================================================\n",
      " embedding (Embedding)       (None, 7, 10)             500000    \n",
      "                                                                 \n",
      "=================================================================\n",
      "Total params: 500,000\n",
      "Trainable params: 500,000\n",
      "Non-trainable params: 0\n",
      "_________________________________________________________________\n"
     ]
    }
   ],
   "source": [
    "mod.summary()"
   ]
  },
  {
   "cell_type": "code",
   "execution_count": 30,
   "id": "ba33895d",
   "metadata": {},
   "outputs": [
    {
     "name": "stdout",
     "output_type": "stream",
     "text": [
      "WARNING:tensorflow:Model was constructed with shape (None, 7) for input KerasTensor(type_spec=TensorSpec(shape=(None, 7), dtype=tf.float32, name='embedding_input'), name='embedding_input', description=\"created by layer 'embedding_input'\"), but it was called on an input with incompatible shape (None,).\n",
      "1/1 [==============================] - 3s 3s/step\n"
     ]
    },
    {
     "data": {
      "text/plain": [
       "array([[-0.04333601, -0.01581476, -0.04310143, -0.02180597, -0.02483678,\n",
       "        -0.01572995, -0.04696418, -0.005769  ,  0.03474187, -0.03474562],\n",
       "       [-0.04196861,  0.03407853,  0.02518752, -0.01129743, -0.00817338,\n",
       "        -0.03059706, -0.01365741, -0.00691295,  0.01149023, -0.01147121],\n",
       "       [-0.00940199, -0.02797021, -0.00280652, -0.04923694,  0.02661897,\n",
       "         0.04491141, -0.01164074, -0.0181792 , -0.00260801,  0.02021552],\n",
       "       [ 0.00093553,  0.01434285, -0.00361079,  0.02785819,  0.02855114,\n",
       "         0.02153236,  0.02621999, -0.01950793, -0.02271258, -0.00971758],\n",
       "       [-0.01741911, -0.00345195,  0.04373522,  0.00886941, -0.04492586,\n",
       "        -0.04713974,  0.0348576 , -0.04236095,  0.02248765,  0.04028858],\n",
       "       [-0.01741911, -0.00345195,  0.04373522,  0.00886941, -0.04492586,\n",
       "        -0.04713974,  0.0348576 , -0.04236095,  0.02248765,  0.04028858],\n",
       "       [-0.01741911, -0.00345195,  0.04373522,  0.00886941, -0.04492586,\n",
       "        -0.04713974,  0.0348576 , -0.04236095,  0.02248765,  0.04028858]],\n",
       "      dtype=float32)"
      ]
     },
     "execution_count": 30,
     "metadata": {},
     "output_type": "execute_result"
    }
   ],
   "source": [
    "#This will predict all the words in the sentence with 10 dimensions as we initialised\n",
    "mod.predict(embedded_corpus[1])"
   ]
  },
  {
   "cell_type": "code",
   "execution_count": 31,
   "id": "494237df",
   "metadata": {},
   "outputs": [
    {
     "name": "stdout",
     "output_type": "stream",
     "text": [
      "1/1 [==============================] - 0s 90ms/step\n"
     ]
    },
    {
     "data": {
      "text/plain": [
       "array([[[ 4.42097075e-02, -2.34134197e-02, -1.24706253e-02,\n",
       "          4.61209081e-02,  3.37159745e-02, -9.44912434e-04,\n",
       "          6.92424923e-03, -2.68378984e-02,  2.70717256e-02,\n",
       "          1.31981447e-03],\n",
       "        [-2.84114480e-02,  5.70427254e-03, -2.89896615e-02,\n",
       "          4.69726957e-02,  1.29777826e-02, -2.96117198e-02,\n",
       "          3.51515152e-02, -4.16276939e-02,  3.28285582e-02,\n",
       "         -1.56338699e-02],\n",
       "        [-1.74191110e-02, -3.45195457e-03,  4.37352173e-02,\n",
       "          8.86940956e-03, -4.49258573e-02, -4.71397415e-02,\n",
       "          3.48575972e-02, -4.23609503e-02,  2.24876516e-02,\n",
       "          4.02885787e-02],\n",
       "        [-1.74191110e-02, -3.45195457e-03,  4.37352173e-02,\n",
       "          8.86940956e-03, -4.49258573e-02, -4.71397415e-02,\n",
       "          3.48575972e-02, -4.23609503e-02,  2.24876516e-02,\n",
       "          4.02885787e-02],\n",
       "        [-1.74191110e-02, -3.45195457e-03,  4.37352173e-02,\n",
       "          8.86940956e-03, -4.49258573e-02, -4.71397415e-02,\n",
       "          3.48575972e-02, -4.23609503e-02,  2.24876516e-02,\n",
       "          4.02885787e-02],\n",
       "        [-1.74191110e-02, -3.45195457e-03,  4.37352173e-02,\n",
       "          8.86940956e-03, -4.49258573e-02, -4.71397415e-02,\n",
       "          3.48575972e-02, -4.23609503e-02,  2.24876516e-02,\n",
       "          4.02885787e-02],\n",
       "        [-1.74191110e-02, -3.45195457e-03,  4.37352173e-02,\n",
       "          8.86940956e-03, -4.49258573e-02, -4.71397415e-02,\n",
       "          3.48575972e-02, -4.23609503e-02,  2.24876516e-02,\n",
       "          4.02885787e-02]],\n",
       "\n",
       "       [[-4.33360115e-02, -1.58147588e-02, -4.31014299e-02,\n",
       "         -2.18059663e-02, -2.48367786e-02, -1.57299526e-02,\n",
       "         -4.69641797e-02, -5.76900318e-03,  3.47418673e-02,\n",
       "         -3.47456224e-02],\n",
       "        [-4.19686064e-02,  3.40785272e-02,  2.51875184e-02,\n",
       "         -1.12974271e-02, -8.17338377e-03, -3.05970553e-02,\n",
       "         -1.36574134e-02, -6.91294670e-03,  1.14902258e-02,\n",
       "         -1.14712119e-02],\n",
       "        [-9.40198824e-03, -2.79702079e-02, -2.80652195e-03,\n",
       "         -4.92369421e-02,  2.66189687e-02,  4.49114107e-02,\n",
       "         -1.16407387e-02, -1.81792006e-02, -2.60801241e-03,\n",
       "          2.02155150e-02],\n",
       "        [ 9.35532153e-04,  1.43428482e-02, -3.61078978e-03,\n",
       "          2.78581865e-02,  2.85511352e-02,  2.15323605e-02,\n",
       "          2.62199901e-02, -1.95079334e-02, -2.27125771e-02,\n",
       "         -9.71758366e-03],\n",
       "        [-1.74191110e-02, -3.45195457e-03,  4.37352173e-02,\n",
       "          8.86940956e-03, -4.49258573e-02, -4.71397415e-02,\n",
       "          3.48575972e-02, -4.23609503e-02,  2.24876516e-02,\n",
       "          4.02885787e-02],\n",
       "        [-1.74191110e-02, -3.45195457e-03,  4.37352173e-02,\n",
       "          8.86940956e-03, -4.49258573e-02, -4.71397415e-02,\n",
       "          3.48575972e-02, -4.23609503e-02,  2.24876516e-02,\n",
       "          4.02885787e-02],\n",
       "        [-1.74191110e-02, -3.45195457e-03,  4.37352173e-02,\n",
       "          8.86940956e-03, -4.49258573e-02, -4.71397415e-02,\n",
       "          3.48575972e-02, -4.23609503e-02,  2.24876516e-02,\n",
       "          4.02885787e-02]],\n",
       "\n",
       "       [[ 4.02628072e-02,  4.98039760e-02,  1.57473199e-02,\n",
       "         -2.14168187e-02,  8.96973535e-03,  6.12219423e-03,\n",
       "         -9.18833166e-03, -1.26089826e-02, -7.08220154e-03,\n",
       "         -1.53320916e-02],\n",
       "        [-2.84114480e-02,  5.70427254e-03, -2.89896615e-02,\n",
       "          4.69726957e-02,  1.29777826e-02, -2.96117198e-02,\n",
       "          3.51515152e-02, -4.16276939e-02,  3.28285582e-02,\n",
       "         -1.56338699e-02],\n",
       "        [-3.64754423e-02, -8.14337656e-03,  2.57818438e-02,\n",
       "         -7.74081796e-03,  4.72628735e-02, -2.19039805e-02,\n",
       "          3.72071303e-02,  1.42232664e-02, -1.45201758e-03,\n",
       "         -3.06923743e-02],\n",
       "        [ 4.97302450e-02,  2.55542733e-02,  9.40973684e-03,\n",
       "          1.00933313e-02,  4.91265543e-02, -2.36784108e-02,\n",
       "          7.39078596e-03,  3.25195529e-02,  2.93359496e-02,\n",
       "         -2.07053311e-02],\n",
       "        [ 3.78087200e-02, -2.60768533e-02, -5.50173596e-03,\n",
       "         -4.53510545e-02, -1.51394494e-02,  3.88653018e-02,\n",
       "         -2.14971192e-02, -6.20238855e-03, -3.76294963e-02,\n",
       "         -2.29023099e-02],\n",
       "        [-1.74191110e-02, -3.45195457e-03,  4.37352173e-02,\n",
       "          8.86940956e-03, -4.49258573e-02, -4.71397415e-02,\n",
       "          3.48575972e-02, -4.23609503e-02,  2.24876516e-02,\n",
       "          4.02885787e-02],\n",
       "        [-1.74191110e-02, -3.45195457e-03,  4.37352173e-02,\n",
       "          8.86940956e-03, -4.49258573e-02, -4.71397415e-02,\n",
       "          3.48575972e-02, -4.23609503e-02,  2.24876516e-02,\n",
       "          4.02885787e-02]],\n",
       "\n",
       "       [[-3.06084510e-02,  2.92460658e-02, -4.77726236e-02,\n",
       "          4.76366393e-02, -8.55809450e-03,  2.15773657e-03,\n",
       "         -2.83749346e-02, -4.57688570e-02, -3.55515257e-02,\n",
       "         -2.48095151e-02],\n",
       "        [ 5.44911623e-03, -7.64716789e-03,  4.89726663e-05,\n",
       "         -3.63595262e-02, -6.16952032e-03,  4.21419404e-02,\n",
       "         -4.77653146e-02,  3.55334543e-02,  1.25893094e-02,\n",
       "          1.10376105e-02],\n",
       "        [-4.44378518e-02,  4.48353626e-02,  4.19744365e-02,\n",
       "         -3.44207175e-02,  3.66873667e-03, -4.99976166e-02,\n",
       "          4.19108309e-02, -6.45481050e-04,  4.59785387e-03,\n",
       "         -2.46390346e-02],\n",
       "        [-1.74191110e-02, -3.45195457e-03,  4.37352173e-02,\n",
       "          8.86940956e-03, -4.49258573e-02, -4.71397415e-02,\n",
       "          3.48575972e-02, -4.23609503e-02,  2.24876516e-02,\n",
       "          4.02885787e-02],\n",
       "        [-1.74191110e-02, -3.45195457e-03,  4.37352173e-02,\n",
       "          8.86940956e-03, -4.49258573e-02, -4.71397415e-02,\n",
       "          3.48575972e-02, -4.23609503e-02,  2.24876516e-02,\n",
       "          4.02885787e-02],\n",
       "        [-1.74191110e-02, -3.45195457e-03,  4.37352173e-02,\n",
       "          8.86940956e-03, -4.49258573e-02, -4.71397415e-02,\n",
       "          3.48575972e-02, -4.23609503e-02,  2.24876516e-02,\n",
       "          4.02885787e-02],\n",
       "        [-1.74191110e-02, -3.45195457e-03,  4.37352173e-02,\n",
       "          8.86940956e-03, -4.49258573e-02, -4.71397415e-02,\n",
       "          3.48575972e-02, -4.23609503e-02,  2.24876516e-02,\n",
       "          4.02885787e-02]],\n",
       "\n",
       "       [[ 3.32550444e-02,  1.79849602e-02, -4.42383997e-02,\n",
       "          4.32121791e-02,  3.16563956e-02, -1.94620490e-02,\n",
       "         -1.79862976e-02, -3.09827924e-02, -3.38059440e-02,\n",
       "         -2.81322245e-02],\n",
       "        [ 5.44911623e-03, -7.64716789e-03,  4.89726663e-05,\n",
       "         -3.63595262e-02, -6.16952032e-03,  4.21419404e-02,\n",
       "         -4.77653146e-02,  3.55334543e-02,  1.25893094e-02,\n",
       "          1.10376105e-02],\n",
       "        [ 4.55598272e-02,  7.05689192e-03, -2.89711002e-02,\n",
       "         -3.44598182e-02, -3.33509594e-02,  2.19107158e-02,\n",
       "          4.29475345e-02,  3.94566394e-02, -4.82463725e-02,\n",
       "          1.86772682e-02],\n",
       "        [-1.05784051e-02,  4.03328054e-02, -3.98431048e-02,\n",
       "          1.79112293e-02, -4.04894948e-02, -2.57965215e-02,\n",
       "         -1.71335712e-02,  3.41883413e-02,  4.58518006e-02,\n",
       "          1.11352801e-02],\n",
       "        [-1.74191110e-02, -3.45195457e-03,  4.37352173e-02,\n",
       "          8.86940956e-03, -4.49258573e-02, -4.71397415e-02,\n",
       "          3.48575972e-02, -4.23609503e-02,  2.24876516e-02,\n",
       "          4.02885787e-02],\n",
       "        [-1.74191110e-02, -3.45195457e-03,  4.37352173e-02,\n",
       "          8.86940956e-03, -4.49258573e-02, -4.71397415e-02,\n",
       "          3.48575972e-02, -4.23609503e-02,  2.24876516e-02,\n",
       "          4.02885787e-02],\n",
       "        [-1.74191110e-02, -3.45195457e-03,  4.37352173e-02,\n",
       "          8.86940956e-03, -4.49258573e-02, -4.71397415e-02,\n",
       "          3.48575972e-02, -4.23609503e-02,  2.24876516e-02,\n",
       "          4.02885787e-02]],\n",
       "\n",
       "       [[ 1.67942047e-03,  2.12550163e-04, -1.46463998e-02,\n",
       "         -2.38902569e-02, -4.38622385e-03, -2.78455745e-02,\n",
       "         -1.32143386e-02,  4.75987457e-02, -2.66132355e-02,\n",
       "          3.03624757e-02],\n",
       "        [-3.84766571e-02, -2.71919258e-02, -2.33676434e-02,\n",
       "         -3.09337862e-02, -1.19829997e-02,  3.85620631e-02,\n",
       "          3.67271416e-02,  1.35958083e-02, -3.27908024e-02,\n",
       "          1.55021995e-03],\n",
       "        [ 2.66906060e-02,  1.81475393e-02, -2.84704212e-02,\n",
       "          4.50734012e-02,  2.96957418e-03,  1.75407268e-02,\n",
       "          4.73250188e-02,  2.06265189e-02,  2.60434859e-02,\n",
       "         -2.24611890e-02],\n",
       "        [ 1.65668987e-02, -1.30336992e-02, -3.13689709e-02,\n",
       "          8.49070400e-03, -1.28995664e-02,  8.22466612e-03,\n",
       "          2.81015150e-02,  2.98307091e-03, -3.33876386e-02,\n",
       "          4.61688899e-02],\n",
       "        [ 4.79630120e-02,  1.95860863e-03,  4.32553142e-03,\n",
       "          1.08530298e-02, -2.48075724e-02, -2.84815077e-02,\n",
       "          2.86485665e-02,  2.26781107e-02,  1.77363493e-02,\n",
       "          1.03402138e-03],\n",
       "        [-4.61137295e-03,  4.32805456e-02, -2.78606173e-02,\n",
       "          2.68620960e-02,  4.66315411e-02,  3.21701914e-03,\n",
       "          1.76491477e-02, -3.32072526e-02, -2.47974526e-02,\n",
       "          3.03437375e-02],\n",
       "        [-1.74191110e-02, -3.45195457e-03,  4.37352173e-02,\n",
       "          8.86940956e-03, -4.49258573e-02, -4.71397415e-02,\n",
       "          3.48575972e-02, -4.23609503e-02,  2.24876516e-02,\n",
       "          4.02885787e-02]]], dtype=float32)"
      ]
     },
     "execution_count": 31,
     "metadata": {},
     "output_type": "execute_result"
    }
   ],
   "source": [
    "mod.predict(embedded_corpus)"
   ]
  }
 ],
 "metadata": {
  "kernelspec": {
   "display_name": "Python 3 (ipykernel)",
   "language": "python",
   "name": "python3"
  },
  "language_info": {
   "codemirror_mode": {
    "name": "ipython",
    "version": 3
   },
   "file_extension": ".py",
   "mimetype": "text/x-python",
   "name": "python",
   "nbconvert_exporter": "python",
   "pygments_lexer": "ipython3",
   "version": "3.9.12"
  }
 },
 "nbformat": 4,
 "nbformat_minor": 5
}
