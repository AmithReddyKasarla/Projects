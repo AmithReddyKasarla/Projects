{
 "cells": [
  {
   "cell_type": "markdown",
   "id": "788031f6",
   "metadata": {},
   "source": [
    "# NLP Preprocessing using BOW and TFIDF"
   ]
  },
  {
   "cell_type": "code",
   "execution_count": 1,
   "id": "83768b47",
   "metadata": {},
   "outputs": [
    {
     "name": "stdout",
     "output_type": "stream",
     "text": [
      "Requirement already satisfied: nltk in c:\\users\\amith\\anaconda3\\lib\\site-packages (3.7)\n",
      "Requirement already satisfied: regex>=2021.8.3 in c:\\users\\amith\\anaconda3\\lib\\site-packages (from nltk) (2022.3.15)\n",
      "Requirement already satisfied: click in c:\\users\\amith\\anaconda3\\lib\\site-packages (from nltk) (8.0.4)\n",
      "Requirement already satisfied: tqdm in c:\\users\\amith\\anaconda3\\lib\\site-packages (from nltk) (4.64.0)\n",
      "Requirement already satisfied: joblib in c:\\users\\amith\\anaconda3\\lib\\site-packages (from nltk) (1.1.0)\n",
      "Requirement already satisfied: colorama in c:\\users\\amith\\anaconda3\\lib\\site-packages (from click->nltk) (0.4.4)\n"
     ]
    }
   ],
   "source": [
    "!pip install nltk"
   ]
  },
  {
   "cell_type": "code",
   "execution_count": 2,
   "id": "b0035dac",
   "metadata": {},
   "outputs": [],
   "source": [
    "corpus = \"\"\"Mahendra Singh Dhoni (/məˈheɪndrə ˈsɪŋ dhæˈnɪ/ (listen); born 7 July 1981) is an Indian professional cricketer who was captain of the Indian national cricket team in limited-overs formats from 2007 to 2017 and in Test cricket from 2008 to 2014. He is a right-handed wicket-keeper batsman.[3] He led the team to three ICC trophies including the 2007 ICC World Twenty20, 2011 ICC Cricket World Cup and 2013 ICC Champions Trophy. Under his captaincy, India won the Asia Cup two times, in 2010 and 2016. India also won ICC Test Championship Mace two times in 2010 and 2011 under his leadership. He is considered as one of the greatest Captains and Wicket Keeper-Batsmen of all time.[4][5][6][7][8][9] Throughout his 15 year long international career, Dhoni has won several awards and accolades.[10][11][12][13]\n",
    "\n",
    "In Indian domestic cricket he played for Bihar and Jharkhand Cricket team. He is the captain of Chennai Super Kings (CSK) in the Indian Premier League. He captained the side to championships in the 2010, 2011, 2018 and 2021 editions of IPL league. Also under his captaincy Chennai Super Kings (CSK) Won Champions League T20 two times, in 2010 and 2014. He vacated the captaincy on 24 March 2022, being replaced by Ravindra Jadeja.[14][15] He took back the captaincy on 30 April 2022.[16]\n",
    "\n",
    "Dhoni made his ODI debut on 23 December 2004, against Bangladesh in Chittagong,[17] and played his first Test a year later against Sri Lanka.[18] He played his first T20I also a year later against South Africa.[19] In 2007, he took over the ODI captaincy from Rahul Dravid.[20] In 2008, he was selected as Test Captain.[21] His captaincy record in this format was mixed, successfully leading India to a series win against New Zealand in 2008 and the Border-Gavaskar Trophy (home series in 2010 and 2013) against Australia while losing to Sri Lanka, Australia, England, and South Africa by big margins in away conditions.[22]\n",
    "\n",
    "He announced his retirement from Test format on 30 December 2014,[23] and stepped down as captain of T20Is and ODIs in 2017. On 15 August 2020, Dhoni retired from all formats of international cricket.[24][25][26] He continues to play in the IPL.[15]\"\"\""
   ]
  },
  {
   "cell_type": "code",
   "execution_count": 3,
   "id": "6e417a71",
   "metadata": {},
   "outputs": [
    {
     "data": {
      "text/plain": [
       "'Mahendra Singh Dhoni (/məˈheɪndrə ˈsɪŋ dhæˈnɪ/ (listen); born 7 July 1981) is an Indian professional cricketer who was captain of the Indian national cricket team in limited-overs formats from 2007 to 2017 and in Test cricket from 2008 to 2014. He is a right-handed wicket-keeper batsman.[3] He led the team to three ICC trophies including the 2007 ICC World Twenty20, 2011 ICC Cricket World Cup and 2013 ICC Champions Trophy. Under his captaincy, India won the Asia Cup two times, in 2010 and 2016. India also won ICC Test Championship Mace two times in 2010 and 2011 under his leadership. He is considered as one of the greatest Captains and Wicket Keeper-Batsmen of all time.[4][5][6][7][8][9] Throughout his 15 year long international career, Dhoni has won several awards and accolades.[10][11][12][13]\\n\\nIn Indian domestic cricket he played for Bihar and Jharkhand Cricket team. He is the captain of Chennai Super Kings (CSK) in the Indian Premier League. He captained the side to championships in the 2010, 2011, 2018 and 2021 editions of IPL league. Also under his captaincy Chennai Super Kings (CSK) Won Champions League T20 two times, in 2010 and 2014. He vacated the captaincy on 24 March 2022, being replaced by Ravindra Jadeja.[14][15] He took back the captaincy on 30 April 2022.[16]\\n\\nDhoni made his ODI debut on 23 December 2004, against Bangladesh in Chittagong,[17] and played his first Test a year later against Sri Lanka.[18] He played his first T20I also a year later against South Africa.[19] In 2007, he took over the ODI captaincy from Rahul Dravid.[20] In 2008, he was selected as Test Captain.[21] His captaincy record in this format was mixed, successfully leading India to a series win against New Zealand in 2008 and the Border-Gavaskar Trophy (home series in 2010 and 2013) against Australia while losing to Sri Lanka, Australia, England, and South Africa by big margins in away conditions.[22]\\n\\nHe announced his retirement from Test format on 30 December 2014,[23] and stepped down as captain of T20Is and ODIs in 2017. On 15 August 2020, Dhoni retired from all formats of international cricket.[24][25][26] He continues to play in the IPL.[15]'"
      ]
     },
     "execution_count": 3,
     "metadata": {},
     "output_type": "execute_result"
    }
   ],
   "source": [
    "corpus"
   ]
  },
  {
   "cell_type": "code",
   "execution_count": 4,
   "id": "c5ab771e",
   "metadata": {},
   "outputs": [],
   "source": [
    "import nltk\n",
    "from nltk.stem import PorterStemmer\n",
    "from nltk.corpus import stopwords"
   ]
  },
  {
   "cell_type": "code",
   "execution_count": 8,
   "id": "6541183a",
   "metadata": {},
   "outputs": [
    {
     "name": "stderr",
     "output_type": "stream",
     "text": [
      "[nltk_data] Downloading package punkt to\n",
      "[nltk_data]     C:\\Users\\amith\\AppData\\Roaming\\nltk_data...\n",
      "[nltk_data]   Package punkt is already up-to-date!\n"
     ]
    }
   ],
   "source": [
    "#tokenization\n",
    "nltk.download('punkt')\n",
    "sent = nltk.sent_tokenize(corpus)"
   ]
  },
  {
   "cell_type": "code",
   "execution_count": 12,
   "id": "18b10974",
   "metadata": {},
   "outputs": [
    {
     "data": {
      "text/plain": [
       "['Mahendra Singh Dhoni (/məˈheɪndrə ˈsɪŋ dhæˈnɪ/ (listen); born 7 July 1981) is an Indian professional cricketer who was captain of the Indian national cricket team in limited-overs formats from 2007 to 2017 and in Test cricket from 2008 to 2014.',\n",
       " 'He is a right-handed wicket-keeper batsman.',\n",
       " '[3] He led the team to three ICC trophies including the 2007 ICC World Twenty20, 2011 ICC Cricket World Cup and 2013 ICC Champions Trophy.',\n",
       " 'Under his captaincy, India won the Asia Cup two times, in 2010 and 2016.',\n",
       " 'India also won ICC Test Championship Mace two times in 2010 and 2011 under his leadership.',\n",
       " 'He is considered as one of the greatest Captains and Wicket Keeper-Batsmen of all time.',\n",
       " '[4][5][6][7][8][9] Throughout his 15 year long international career, Dhoni has won several awards and accolades.',\n",
       " '[10][11][12][13]\\n\\nIn Indian domestic cricket he played for Bihar and Jharkhand Cricket team.',\n",
       " 'He is the captain of Chennai Super Kings (CSK) in the Indian Premier League.',\n",
       " 'He captained the side to championships in the 2010, 2011, 2018 and 2021 editions of IPL league.',\n",
       " 'Also under his captaincy Chennai Super Kings (CSK) Won Champions League T20 two times, in 2010 and 2014.',\n",
       " 'He vacated the captaincy on 24 March 2022, being replaced by Ravindra Jadeja.',\n",
       " '[14][15] He took back the captaincy on 30 April 2022.',\n",
       " '[16]\\n\\nDhoni made his ODI debut on 23 December 2004, against Bangladesh in Chittagong,[17] and played his first Test a year later against Sri Lanka.',\n",
       " '[18] He played his first T20I also a year later against South Africa.',\n",
       " '[19] In 2007, he took over the ODI captaincy from Rahul Dravid.',\n",
       " '[20] In 2008, he was selected as Test Captain.',\n",
       " '[21] His captaincy record in this format was mixed, successfully leading India to a series win against New Zealand in 2008 and the Border-Gavaskar Trophy (home series in 2010 and 2013) against Australia while losing to Sri Lanka, Australia, England, and South Africa by big margins in away conditions.',\n",
       " '[22]\\n\\nHe announced his retirement from Test format on 30 December 2014,[23] and stepped down as captain of T20Is and ODIs in 2017.',\n",
       " 'On 15 August 2020, Dhoni retired from all formats of international cricket.',\n",
       " '[24][25][26] He continues to play in the IPL.',\n",
       " '[15]']"
      ]
     },
     "execution_count": 12,
     "metadata": {},
     "output_type": "execute_result"
    }
   ],
   "source": [
    "sent"
   ]
  },
  {
   "cell_type": "code",
   "execution_count": 13,
   "id": "ccf32651",
   "metadata": {},
   "outputs": [],
   "source": [
    "stemmer=PorterStemmer()"
   ]
  },
  {
   "cell_type": "code",
   "execution_count": 15,
   "id": "4ff2e455",
   "metadata": {},
   "outputs": [
    {
     "data": {
      "text/plain": [
       "'do'"
      ]
     },
     "execution_count": 15,
     "metadata": {},
     "output_type": "execute_result"
    }
   ],
   "source": [
    "stemmer.stem('doing')"
   ]
  },
  {
   "cell_type": "code",
   "execution_count": 16,
   "id": "9ef5b28c",
   "metadata": {},
   "outputs": [
    {
     "name": "stdout",
     "output_type": "stream",
     "text": [
      "Collecting sklearn\n",
      "  Using cached sklearn-0.0-py2.py3-none-any.whl\n",
      "Requirement already satisfied: scikit-learn in c:\\users\\amith\\anaconda3\\lib\\site-packages (from sklearn) (1.0.2)\n",
      "Requirement already satisfied: joblib>=0.11 in c:\\users\\amith\\anaconda3\\lib\\site-packages (from scikit-learn->sklearn) (1.1.0)\n",
      "Requirement already satisfied: threadpoolctl>=2.0.0 in c:\\users\\amith\\anaconda3\\lib\\site-packages (from scikit-learn->sklearn) (2.2.0)\n",
      "Requirement already satisfied: scipy>=1.1.0 in c:\\users\\amith\\anaconda3\\lib\\site-packages (from scikit-learn->sklearn) (1.7.3)\n",
      "Requirement already satisfied: numpy>=1.14.6 in c:\\users\\amith\\anaconda3\\lib\\site-packages (from scikit-learn->sklearn) (1.21.5)\n",
      "Installing collected packages: sklearn\n",
      "Successfully installed sklearn-0.0\n"
     ]
    }
   ],
   "source": [
    "!pip install sklearn"
   ]
  },
  {
   "cell_type": "code",
   "execution_count": 30,
   "id": "3f493014",
   "metadata": {},
   "outputs": [
    {
     "name": "stderr",
     "output_type": "stream",
     "text": [
      "[nltk_data] Downloading package wordnet to\n",
      "[nltk_data]     C:\\Users\\amith\\AppData\\Roaming\\nltk_data...\n",
      "[nltk_data]   Package wordnet is already up-to-date!\n",
      "[nltk_data] Downloading package omw-1.4 to\n",
      "[nltk_data]     C:\\Users\\amith\\AppData\\Roaming\\nltk_data...\n",
      "[nltk_data]   Unzipping corpora\\omw-1.4.zip.\n"
     ]
    },
    {
     "data": {
      "text/plain": [
       "True"
      ]
     },
     "execution_count": 30,
     "metadata": {},
     "output_type": "execute_result"
    }
   ],
   "source": [
    "from nltk.stem import WordNetLemmatizer\n",
    "nltk.download('wordnet')\n",
    "nltk.download('omw-1.4')"
   ]
  },
  {
   "cell_type": "code",
   "execution_count": 31,
   "id": "3e98dc11",
   "metadata": {},
   "outputs": [],
   "source": [
    "lemmatizer=WordNetLemmatizer()"
   ]
  },
  {
   "cell_type": "code",
   "execution_count": 32,
   "id": "6b20bcc7",
   "metadata": {},
   "outputs": [
    {
     "data": {
      "text/plain": [
       "'league'"
      ]
     },
     "execution_count": 32,
     "metadata": {},
     "output_type": "execute_result"
    }
   ],
   "source": [
    "lemmatizer.lemmatize('league')"
   ]
  },
  {
   "cell_type": "code",
   "execution_count": 33,
   "id": "50241494",
   "metadata": {},
   "outputs": [],
   "source": [
    "import re"
   ]
  },
  {
   "cell_type": "code",
   "execution_count": 35,
   "id": "6a356949",
   "metadata": {},
   "outputs": [
    {
     "data": {
      "text/plain": [
       "22"
      ]
     },
     "execution_count": 35,
     "metadata": {},
     "output_type": "execute_result"
    }
   ],
   "source": [
    "len(sent)"
   ]
  },
  {
   "cell_type": "code",
   "execution_count": 36,
   "id": "c00e5af2",
   "metadata": {},
   "outputs": [],
   "source": [
    "corpusnew=[]\n",
    "for i in range(len(sent)):\n",
    "    new = re.sub('[^a-zA-Z]',' ',sent[i])\n",
    "    new = new.lower()\n",
    "    corpusnew.append(new)"
   ]
  },
  {
   "cell_type": "code",
   "execution_count": 37,
   "id": "6887c40e",
   "metadata": {},
   "outputs": [
    {
     "data": {
      "text/plain": [
       "['mahendra singh dhoni   m  he ndr   s   dh  n    listen   born   july       is an indian professional cricketer who was captain of the indian national cricket team in limited overs formats from      to      and in test cricket from      to      ',\n",
       " 'he is a right handed wicket keeper batsman ',\n",
       " '    he led the team to three icc trophies including the      icc world twenty         icc cricket world cup and      icc champions trophy ',\n",
       " 'under his captaincy  india won the asia cup two times  in      and      ',\n",
       " 'india also won icc test championship mace two times in      and      under his leadership ',\n",
       " 'he is considered as one of the greatest captains and wicket keeper batsmen of all time ',\n",
       " '                   throughout his    year long international career  dhoni has won several awards and accolades ',\n",
       " '                  in indian domestic cricket he played for bihar and jharkhand cricket team ',\n",
       " 'he is the captain of chennai super kings  csk  in the indian premier league ',\n",
       " 'he captained the side to championships in the                  and      editions of ipl league ',\n",
       " 'also under his captaincy chennai super kings  csk  won champions league t   two times  in      and      ',\n",
       " 'he vacated the captaincy on    march       being replaced by ravindra jadeja ',\n",
       " '         he took back the captaincy on    april      ',\n",
       " '      dhoni made his odi debut on    december       against bangladesh in chittagong      and played his first test a year later against sri lanka ',\n",
       " '     he played his first t  i also a year later against south africa ',\n",
       " '     in       he took over the odi captaincy from rahul dravid ',\n",
       " '     in       he was selected as test captain ',\n",
       " '     his captaincy record in this format was mixed  successfully leading india to a series win against new zealand in      and the border gavaskar trophy  home series in      and       against australia while losing to sri lanka  australia  england  and south africa by big margins in away conditions ',\n",
       " '      he announced his retirement from test format on    december           and stepped down as captain of t  is and odis in      ',\n",
       " 'on    august       dhoni retired from all formats of international cricket ',\n",
       " '             he continues to play in the ipl ',\n",
       " '    ']"
      ]
     },
     "execution_count": 37,
     "metadata": {},
     "output_type": "execute_result"
    }
   ],
   "source": [
    "corpusnew"
   ]
  },
  {
   "cell_type": "code",
   "execution_count": 41,
   "id": "ed6432cf",
   "metadata": {},
   "outputs": [
    {
     "name": "stderr",
     "output_type": "stream",
     "text": [
      "[nltk_data] Downloading package stopwords to\n",
      "[nltk_data]     C:\\Users\\amith\\AppData\\Roaming\\nltk_data...\n",
      "[nltk_data]   Unzipping corpora\\stopwords.zip.\n"
     ]
    },
    {
     "data": {
      "text/plain": [
       "True"
      ]
     },
     "execution_count": 41,
     "metadata": {},
     "output_type": "execute_result"
    }
   ],
   "source": [
    "nltk.download('stopwords')"
   ]
  },
  {
   "cell_type": "code",
   "execution_count": 43,
   "id": "723bd50e",
   "metadata": {},
   "outputs": [
    {
     "name": "stdout",
     "output_type": "stream",
     "text": [
      "mahendra\n",
      "singh\n",
      "dhoni\n",
      "ndr\n",
      "dh\n",
      "n\n",
      "listen\n",
      "born\n",
      "juli\n",
      "indian\n",
      "profession\n",
      "cricket\n",
      "captain\n",
      "indian\n",
      "nation\n",
      "cricket\n",
      "team\n",
      "limit\n",
      "over\n",
      "format\n",
      "test\n",
      "cricket\n",
      "right\n",
      "hand\n",
      "wicket\n",
      "keeper\n",
      "batsman\n",
      "led\n",
      "team\n",
      "three\n",
      "icc\n",
      "trophi\n",
      "includ\n",
      "icc\n",
      "world\n",
      "twenti\n",
      "icc\n",
      "cricket\n",
      "world\n",
      "cup\n",
      "icc\n",
      "champion\n",
      "trophi\n",
      "captainci\n",
      "india\n",
      "asia\n",
      "cup\n",
      "two\n",
      "time\n",
      "india\n",
      "also\n",
      "icc\n",
      "test\n",
      "championship\n",
      "mace\n",
      "two\n",
      "time\n",
      "leadership\n",
      "consid\n",
      "one\n",
      "greatest\n",
      "captain\n",
      "wicket\n",
      "keeper\n",
      "batsmen\n",
      "time\n",
      "throughout\n",
      "year\n",
      "long\n",
      "intern\n",
      "career\n",
      "dhoni\n",
      "sever\n",
      "award\n",
      "accolad\n",
      "indian\n",
      "domest\n",
      "cricket\n",
      "play\n",
      "bihar\n",
      "jharkhand\n",
      "cricket\n",
      "team\n",
      "captain\n",
      "chennai\n",
      "super\n",
      "king\n",
      "csk\n",
      "indian\n",
      "premier\n",
      "leagu\n",
      "captain\n",
      "side\n",
      "championship\n",
      "edit\n",
      "ipl\n",
      "leagu\n",
      "also\n",
      "captainci\n",
      "chennai\n",
      "super\n",
      "king\n",
      "csk\n",
      "champion\n",
      "leagu\n",
      "two\n",
      "time\n",
      "vacat\n",
      "captainci\n",
      "march\n",
      "replac\n",
      "ravindra\n",
      "jadeja\n",
      "took\n",
      "back\n",
      "captainci\n",
      "april\n",
      "dhoni\n",
      "made\n",
      "odi\n",
      "debut\n",
      "decemb\n",
      "bangladesh\n",
      "chittagong\n",
      "play\n",
      "first\n",
      "test\n",
      "year\n",
      "later\n",
      "sri\n",
      "lanka\n",
      "play\n",
      "first\n",
      "also\n",
      "year\n",
      "later\n",
      "south\n",
      "africa\n",
      "took\n",
      "odi\n",
      "captainci\n",
      "rahul\n",
      "dravid\n",
      "select\n",
      "test\n",
      "captain\n",
      "captainci\n",
      "record\n",
      "format\n",
      "mix\n",
      "success\n",
      "lead\n",
      "india\n",
      "seri\n",
      "win\n",
      "new\n",
      "zealand\n",
      "border\n",
      "gavaskar\n",
      "trophi\n",
      "home\n",
      "seri\n",
      "australia\n",
      "lose\n",
      "sri\n",
      "lanka\n",
      "australia\n",
      "england\n",
      "south\n",
      "africa\n",
      "big\n",
      "margin\n",
      "away\n",
      "condit\n",
      "announc\n",
      "retir\n",
      "test\n",
      "format\n",
      "decemb\n",
      "step\n",
      "captain\n",
      "odi\n",
      "august\n",
      "dhoni\n",
      "retir\n",
      "format\n",
      "intern\n",
      "cricket\n",
      "continu\n",
      "play\n",
      "ipl\n"
     ]
    }
   ],
   "source": [
    "for i in corpusnew:\n",
    "    words = nltk.word_tokenize(i)\n",
    "    for word in words:\n",
    "        if word not in set(stopwords.words('english')):\n",
    "            print(stemmer.stem(word))"
   ]
  },
  {
   "cell_type": "code",
   "execution_count": 45,
   "id": "d82700fb",
   "metadata": {},
   "outputs": [
    {
     "name": "stdout",
     "output_type": "stream",
     "text": [
      "mahendra\n",
      "singh\n",
      "dhoni\n",
      "ndr\n",
      "dh\n",
      "n\n",
      "listen\n",
      "born\n",
      "july\n",
      "indian\n",
      "professional\n",
      "cricketer\n",
      "captain\n",
      "indian\n",
      "national\n",
      "cricket\n",
      "team\n",
      "limited\n",
      "over\n",
      "format\n",
      "test\n",
      "cricket\n",
      "right\n",
      "handed\n",
      "wicket\n",
      "keeper\n",
      "batsman\n",
      "led\n",
      "team\n",
      "three\n",
      "icc\n",
      "trophy\n",
      "including\n",
      "icc\n",
      "world\n",
      "twenty\n",
      "icc\n",
      "cricket\n",
      "world\n",
      "cup\n",
      "icc\n",
      "champion\n",
      "trophy\n",
      "captaincy\n",
      "india\n",
      "asia\n",
      "cup\n",
      "two\n",
      "time\n",
      "india\n",
      "also\n",
      "icc\n",
      "test\n",
      "championship\n",
      "mace\n",
      "two\n",
      "time\n",
      "leadership\n",
      "considered\n",
      "one\n",
      "greatest\n",
      "captain\n",
      "wicket\n",
      "keeper\n",
      "batsman\n",
      "time\n",
      "throughout\n",
      "year\n",
      "long\n",
      "international\n",
      "career\n",
      "dhoni\n",
      "several\n",
      "award\n",
      "accolade\n",
      "indian\n",
      "domestic\n",
      "cricket\n",
      "played\n",
      "bihar\n",
      "jharkhand\n",
      "cricket\n",
      "team\n",
      "captain\n",
      "chennai\n",
      "super\n",
      "king\n",
      "csk\n",
      "indian\n",
      "premier\n",
      "league\n",
      "captained\n",
      "side\n",
      "championship\n",
      "edition\n",
      "ipl\n",
      "league\n",
      "also\n",
      "captaincy\n",
      "chennai\n",
      "super\n",
      "king\n",
      "csk\n",
      "champion\n",
      "league\n",
      "two\n",
      "time\n",
      "vacated\n",
      "captaincy\n",
      "march\n",
      "replaced\n",
      "ravindra\n",
      "jadeja\n",
      "took\n",
      "back\n",
      "captaincy\n",
      "april\n",
      "dhoni\n",
      "made\n",
      "odi\n",
      "debut\n",
      "december\n",
      "bangladesh\n",
      "chittagong\n",
      "played\n",
      "first\n",
      "test\n",
      "year\n",
      "later\n",
      "sri\n",
      "lanka\n",
      "played\n",
      "first\n",
      "also\n",
      "year\n",
      "later\n",
      "south\n",
      "africa\n",
      "took\n",
      "odi\n",
      "captaincy\n",
      "rahul\n",
      "dravid\n",
      "selected\n",
      "test\n",
      "captain\n",
      "captaincy\n",
      "record\n",
      "format\n",
      "mixed\n",
      "successfully\n",
      "leading\n",
      "india\n",
      "series\n",
      "win\n",
      "new\n",
      "zealand\n",
      "border\n",
      "gavaskar\n",
      "trophy\n",
      "home\n",
      "series\n",
      "australia\n",
      "losing\n",
      "sri\n",
      "lanka\n",
      "australia\n",
      "england\n",
      "south\n",
      "africa\n",
      "big\n",
      "margin\n",
      "away\n",
      "condition\n",
      "announced\n",
      "retirement\n",
      "test\n",
      "format\n",
      "december\n",
      "stepped\n",
      "captain\n",
      "odis\n",
      "august\n",
      "dhoni\n",
      "retired\n",
      "format\n",
      "international\n",
      "cricket\n",
      "continues\n",
      "play\n",
      "ipl\n"
     ]
    }
   ],
   "source": [
    "for i in corpusnew:\n",
    "    words=nltk.word_tokenize(i)\n",
    "    for word in words:\n",
    "        if word not in set(stopwords.words('english')):\n",
    "            print(lemmatizer.lemmatize(word))"
   ]
  },
  {
   "cell_type": "code",
   "execution_count": 46,
   "id": "d5b439b9",
   "metadata": {},
   "outputs": [],
   "source": [
    "from sklearn.feature_extraction.text import CountVectorizer"
   ]
  },
  {
   "cell_type": "code",
   "execution_count": 47,
   "id": "118a1030",
   "metadata": {},
   "outputs": [],
   "source": [
    "cv=CountVectorizer()"
   ]
  },
  {
   "cell_type": "code",
   "execution_count": 49,
   "id": "b53ba17d",
   "metadata": {},
   "outputs": [],
   "source": [
    "z= cv.fit_transform(corpusnew)"
   ]
  },
  {
   "cell_type": "code",
   "execution_count": 50,
   "id": "d9abcc0e",
   "metadata": {},
   "outputs": [
    {
     "data": {
      "text/plain": [
       "{'mahendra': 88,\n",
       " 'singh': 117,\n",
       " 'dhoni': 45,\n",
       " 'he': 60,\n",
       " 'ndr': 93,\n",
       " 'dh': 44,\n",
       " 'listen': 83,\n",
       " 'born': 23,\n",
       " 'july': 73,\n",
       " 'is': 70,\n",
       " 'an': 5,\n",
       " 'indian': 67,\n",
       " 'professional': 105,\n",
       " 'cricketer': 39,\n",
       " 'who': 141,\n",
       " 'was': 139,\n",
       " 'captain': 25,\n",
       " 'of': 97,\n",
       " 'the': 125,\n",
       " 'national': 92,\n",
       " 'cricket': 38,\n",
       " 'team': 123,\n",
       " 'in': 64,\n",
       " 'limited': 82,\n",
       " 'overs': 101,\n",
       " 'formats': 54,\n",
       " 'from': 55,\n",
       " 'to': 131,\n",
       " 'and': 6,\n",
       " 'test': 124,\n",
       " 'right': 112,\n",
       " 'handed': 58,\n",
       " 'wicket': 142,\n",
       " 'keeper': 74,\n",
       " 'batsman': 17,\n",
       " 'led': 81,\n",
       " 'three': 127,\n",
       " 'icc': 63,\n",
       " 'trophies': 133,\n",
       " 'including': 65,\n",
       " 'world': 145,\n",
       " 'twenty': 135,\n",
       " 'cup': 41,\n",
       " 'champions': 30,\n",
       " 'trophy': 134,\n",
       " 'under': 137,\n",
       " 'his': 61,\n",
       " 'captaincy': 26,\n",
       " 'india': 66,\n",
       " 'won': 144,\n",
       " 'asia': 10,\n",
       " 'two': 136,\n",
       " 'times': 130,\n",
       " 'also': 4,\n",
       " 'championship': 31,\n",
       " 'mace': 86,\n",
       " 'leadership': 78,\n",
       " 'considered': 36,\n",
       " 'as': 9,\n",
       " 'one': 99,\n",
       " 'greatest': 57,\n",
       " 'captains': 28,\n",
       " 'batsmen': 18,\n",
       " 'all': 3,\n",
       " 'time': 129,\n",
       " 'throughout': 128,\n",
       " 'year': 146,\n",
       " 'long': 84,\n",
       " 'international': 68,\n",
       " 'career': 29,\n",
       " 'has': 59,\n",
       " 'several': 115,\n",
       " 'awards': 13,\n",
       " 'accolades': 0,\n",
       " 'domestic': 46,\n",
       " 'played': 103,\n",
       " 'for': 52,\n",
       " 'bihar': 21,\n",
       " 'jharkhand': 72,\n",
       " 'chennai': 33,\n",
       " 'super': 122,\n",
       " 'kings': 75,\n",
       " 'csk': 40,\n",
       " 'premier': 104,\n",
       " 'league': 80,\n",
       " 'captained': 27,\n",
       " 'side': 116,\n",
       " 'championships': 32,\n",
       " 'editions': 49,\n",
       " 'ipl': 69,\n",
       " 'vacated': 138,\n",
       " 'on': 98,\n",
       " 'march': 89,\n",
       " 'being': 19,\n",
       " 'replaced': 109,\n",
       " 'by': 24,\n",
       " 'ravindra': 107,\n",
       " 'jadeja': 71,\n",
       " 'took': 132,\n",
       " 'back': 15,\n",
       " 'april': 8,\n",
       " 'made': 87,\n",
       " 'odi': 95,\n",
       " 'debut': 42,\n",
       " 'december': 43,\n",
       " 'against': 2,\n",
       " 'bangladesh': 16,\n",
       " 'chittagong': 34,\n",
       " 'first': 51,\n",
       " 'later': 77,\n",
       " 'sri': 119,\n",
       " 'lanka': 76,\n",
       " 'south': 118,\n",
       " 'africa': 1,\n",
       " 'over': 100,\n",
       " 'rahul': 106,\n",
       " 'dravid': 48,\n",
       " 'selected': 113,\n",
       " 'record': 108,\n",
       " 'this': 126,\n",
       " 'format': 53,\n",
       " 'mixed': 91,\n",
       " 'successfully': 121,\n",
       " 'leading': 79,\n",
       " 'series': 114,\n",
       " 'win': 143,\n",
       " 'new': 94,\n",
       " 'zealand': 147,\n",
       " 'border': 22,\n",
       " 'gavaskar': 56,\n",
       " 'home': 62,\n",
       " 'australia': 12,\n",
       " 'while': 140,\n",
       " 'losing': 85,\n",
       " 'england': 50,\n",
       " 'big': 20,\n",
       " 'margins': 90,\n",
       " 'away': 14,\n",
       " 'conditions': 35,\n",
       " 'announced': 7,\n",
       " 'retirement': 111,\n",
       " 'stepped': 120,\n",
       " 'down': 47,\n",
       " 'odis': 96,\n",
       " 'august': 11,\n",
       " 'retired': 110,\n",
       " 'continues': 37,\n",
       " 'play': 102}"
      ]
     },
     "execution_count": 50,
     "metadata": {},
     "output_type": "execute_result"
    }
   ],
   "source": [
    "cv.vocabulary_"
   ]
  },
  {
   "cell_type": "code",
   "execution_count": 52,
   "id": "8fbfaaff",
   "metadata": {},
   "outputs": [
    {
     "data": {
      "text/plain": [
       "'mahendra singh dhoni   m  he ndr   s   dh  n    listen   born   july       is an indian professional cricketer who was captain of the indian national cricket team in limited overs formats from      to      and in test cricket from      to      '"
      ]
     },
     "execution_count": 52,
     "metadata": {},
     "output_type": "execute_result"
    }
   ],
   "source": [
    "corpusnew[0]"
   ]
  },
  {
   "cell_type": "code",
   "execution_count": 53,
   "id": "6f2cb3c5",
   "metadata": {},
   "outputs": [
    {
     "data": {
      "text/plain": [
       "array([[0, 0, 0, 0, 0, 1, 1, 0, 0, 0, 0, 0, 0, 0, 0, 0, 0, 0, 0, 0, 0, 0,\n",
       "        0, 1, 0, 1, 0, 0, 0, 0, 0, 0, 0, 0, 0, 0, 0, 0, 2, 1, 0, 0, 0, 0,\n",
       "        1, 1, 0, 0, 0, 0, 0, 0, 0, 0, 1, 2, 0, 0, 0, 0, 1, 0, 0, 0, 2, 0,\n",
       "        0, 2, 0, 0, 1, 0, 0, 1, 0, 0, 0, 0, 0, 0, 0, 0, 1, 1, 0, 0, 0, 0,\n",
       "        1, 0, 0, 0, 1, 1, 0, 0, 0, 1, 0, 0, 0, 1, 0, 0, 0, 1, 0, 0, 0, 0,\n",
       "        0, 0, 0, 0, 0, 0, 0, 1, 0, 0, 0, 0, 0, 1, 1, 1, 0, 0, 0, 0, 0, 2,\n",
       "        0, 0, 0, 0, 0, 0, 0, 1, 0, 1, 0, 0, 0, 0, 0, 0]], dtype=int64)"
      ]
     },
     "execution_count": 53,
     "metadata": {},
     "output_type": "execute_result"
    }
   ],
   "source": [
    "z[0].toarray()"
   ]
  },
  {
   "cell_type": "code",
   "execution_count": 59,
   "id": "acc8e6da",
   "metadata": {},
   "outputs": [],
   "source": [
    "##applying stopwords.lemmetizer\n",
    "import re\n",
    "cr = []\n",
    "for i in range(len(corpus)):\n",
    "    new = re.sub('[^a-zA-Z]',' ',corpus[i])\n",
    "    new.lower()\n",
    "    new = new.split()\n",
    "    new = [lemmatizer.lemmatize(word) for word in new if not word in set(stopwords.words('english'))]\n",
    "    new = ' '.join(new)\n",
    "    cr.append(new)"
   ]
  },
  {
   "cell_type": "code",
   "execution_count": 62,
   "id": "501e46eb",
   "metadata": {},
   "outputs": [],
   "source": [
    "from sklearn.feature_extraction.text import TfidfVectorizer"
   ]
  },
  {
   "cell_type": "code",
   "execution_count": 69,
   "id": "419740d4",
   "metadata": {},
   "outputs": [],
   "source": [
    "td=TfidfVectorizer(ngram_range=(2,3),max_features=5)"
   ]
  },
  {
   "cell_type": "code",
   "execution_count": 70,
   "id": "ba0af117",
   "metadata": {},
   "outputs": [],
   "source": [
    "x=td.fit_transform(corpusnew)"
   ]
  },
  {
   "cell_type": "code",
   "execution_count": 71,
   "id": "30d96ead",
   "metadata": {},
   "outputs": [
    {
     "data": {
      "text/plain": [
       "'mahendra singh dhoni   m  he ndr   s   dh  n    listen   born   july       is an indian professional cricketer who was captain of the indian national cricket team in limited overs formats from      to      and in test cricket from      to      '"
      ]
     },
     "execution_count": 71,
     "metadata": {},
     "output_type": "execute_result"
    }
   ],
   "source": [
    "corpusnew[0]"
   ]
  },
  {
   "cell_type": "code",
   "execution_count": 72,
   "id": "4964f3b3",
   "metadata": {},
   "outputs": [
    {
     "data": {
      "text/plain": [
       "array([[0., 0., 0., 0., 0.]])"
      ]
     },
     "execution_count": 72,
     "metadata": {},
     "output_type": "execute_result"
    }
   ],
   "source": [
    "x[0].toarray()"
   ]
  },
  {
   "cell_type": "code",
   "execution_count": null,
   "id": "c11f75be",
   "metadata": {},
   "outputs": [],
   "source": []
  }
 ],
 "metadata": {
  "kernelspec": {
   "display_name": "Python 3 (ipykernel)",
   "language": "python",
   "name": "python3"
  },
  "language_info": {
   "codemirror_mode": {
    "name": "ipython",
    "version": 3
   },
   "file_extension": ".py",
   "mimetype": "text/x-python",
   "name": "python",
   "nbconvert_exporter": "python",
   "pygments_lexer": "ipython3",
   "version": "3.9.12"
  }
 },
 "nbformat": 4,
 "nbformat_minor": 5
}
